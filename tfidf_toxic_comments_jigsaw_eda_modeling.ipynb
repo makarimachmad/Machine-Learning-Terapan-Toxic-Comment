{
  "nbformat": 4,
  "nbformat_minor": 5,
  "metadata": {
    "kernelspec": {
      "display_name": "Python 3",
      "language": "python",
      "name": "python3"
    },
    "language_info": {
      "codemirror_mode": {
        "name": "ipython",
        "version": 3
      },
      "file_extension": ".py",
      "mimetype": "text/x-python",
      "name": "python",
      "nbconvert_exporter": "python",
      "pygments_lexer": "ipython3",
      "version": "3.7.10"
    },
    "papermill": {
      "default_parameters": {},
      "duration": 1088.047376,
      "end_time": "2021-11-18T02:28:01.180114",
      "environment_variables": {},
      "exception": null,
      "input_path": "__notebook__.ipynb",
      "output_path": "__notebook__.ipynb",
      "parameters": {},
      "start_time": "2021-11-18T02:09:53.132738",
      "version": "2.3.3"
    },
    "colab": {
      "name": "tfidf-toxic-comments-jigsaw-eda-modeling.ipynb",
      "provenance": []
    }
  },
  "cells": [
    {
      "cell_type": "markdown",
      "metadata": {
        "id": "oTCIZnbCLDAn"
      },
      "source": [
        "*refrensi*\n",
        "https://www.kaggle.com/pablorosa01/naive-bayes-modeling-toxic-comments-jigsaw?scriptVersionId=80103579 "
      ],
      "id": "oTCIZnbCLDAn"
    },
    {
      "cell_type": "markdown",
      "metadata": {
        "execution": {
          "iopub.execute_input": "2021-11-16T22:43:03.403922Z",
          "iopub.status.busy": "2021-11-16T22:43:03.403064Z",
          "iopub.status.idle": "2021-11-16T22:43:03.432243Z",
          "shell.execute_reply": "2021-11-16T22:43:03.431081Z",
          "shell.execute_reply.started": "2021-11-16T22:43:03.403806Z"
        },
        "papermill": {
          "duration": 0.019267,
          "end_time": "2021-11-18T02:10:02.192524",
          "exception": false,
          "start_time": "2021-11-18T02:10:02.173257",
          "status": "completed"
        },
        "tags": [],
        "id": "0ec211c8"
      },
      "source": [
        "<div style=\"font-weight: bold;font-size:40px;background-color: #A0E8FF;padding:0 5%; color:#2F4F4F\">Toxic Comments</div>\n",
        "\n",
        "<center><img src=\"https://www.institutotraficoonline.com/wp-content/uploads/2021/02/haters-instituto-trafico-online-ito-roberto-gamboa.jpg\" width=400></center>\n"
      ],
      "id": "0ec211c8"
    },
    {
      "cell_type": "code",
      "metadata": {
        "colab": {
          "base_uri": "https://localhost:8080/"
        },
        "id": "N3F4XlRRFNDI",
        "outputId": "78ef93b7-4dc6-49e6-aa33-b7f6fb22cd2c"
      },
      "source": [
        "from google.colab import drive\n",
        "drive.mount('/content/drive')"
      ],
      "id": "N3F4XlRRFNDI",
      "execution_count": 1,
      "outputs": [
        {
          "output_type": "stream",
          "name": "stdout",
          "text": [
            "Mounted at /content/drive\n"
          ]
        }
      ]
    },
    {
      "cell_type": "markdown",
      "metadata": {
        "papermill": {
          "duration": 0.017924,
          "end_time": "2021-11-18T02:10:02.231177",
          "exception": false,
          "start_time": "2021-11-18T02:10:02.213253",
          "status": "completed"
        },
        "tags": [],
        "id": "d3b06dd0"
      },
      "source": [
        "Komentar *hater* bertebaran di sekitar kita, setiap saat di setiap jejaring sosial. Terima kasih kepada [Jigsaw](https://www.kaggle.com/c/jigsaw-toxic-severity-rating) karena telah mendorong kompetisi semacam ini agar internet yang jernih dapat meningkatkan metode moderasi kami.\n",
        "\n",
        "Dalam notebook ini Anda akan pendekatan menggunakan classifier Navie Bayes karena ini adalah model yang sangat sederhana dengan sudut pandang statistik yang kuat.\n",
        "\n",
        "Saya selalu berusaha membuat buku catatan sebaik mungkin, dan saya harap Anda juga menerimanya. <b>Jadi, jika menurut Anda menarik, UPVOTE kernel saya</b>\n",
        "Anda mungkin tahu seberapa besar dampak positifnya terhadap pekerjaan kami sebagai ilmuwan data"
      ],
      "id": "d3b06dd0"
    },
    {
      "cell_type": "markdown",
      "metadata": {
        "id": "Wr8FqBc4Lfvk"
      },
      "source": [
        "Notebook ini membandingkan penggunaan *TF-IDF* dan *Non TF-IDF* pada model Machine Learning yang ada pada library *scikt-learn*:\n",
        "1. Naive bayes\n",
        "2. KNN\n",
        "3. Neirest Neighbors\n",
        "4. SVM\n",
        "5. Stochastic Gradient Descent\n",
        "6. Linear SVC\n",
        "7. Neural Network"
      ],
      "id": "Wr8FqBc4Lfvk"
    },
    {
      "cell_type": "markdown",
      "metadata": {
        "papermill": {
          "duration": 0.017876,
          "end_time": "2021-11-18T02:10:02.269678",
          "exception": false,
          "start_time": "2021-11-18T02:10:02.251802",
          "status": "completed"
        },
        "tags": [],
        "id": "c3580db7"
      },
      "source": [
        "<h2>Imports</h2>"
      ],
      "id": "c3580db7"
    },
    {
      "cell_type": "code",
      "metadata": {
        "_cell_guid": "b1076dfc-b9ad-4769-8c92-a6c4dae69d19",
        "_uuid": "8f2839f25d086af736a60e9eeb907d3b93b6e0e5",
        "execution": {
          "iopub.execute_input": "2021-11-18T02:10:02.310408Z",
          "iopub.status.busy": "2021-11-18T02:10:02.309191Z",
          "iopub.status.idle": "2021-11-18T02:10:03.967533Z",
          "shell.execute_reply": "2021-11-18T02:10:03.968205Z",
          "shell.execute_reply.started": "2021-11-18T02:01:40.973055Z"
        },
        "papermill": {
          "duration": 1.680827,
          "end_time": "2021-11-18T02:10:03.968589",
          "exception": false,
          "start_time": "2021-11-18T02:10:02.287762",
          "status": "completed"
        },
        "tags": [],
        "id": "521cc44f"
      },
      "source": [
        "import numpy as np # linear algebra\n",
        "import pandas as pd # data processing, CSV file I/O (e.g. pd.read_csv)\n",
        "import progressbar\n",
        "import nltk\n",
        "import matplotlib.pyplot as plt\n",
        "import re\n",
        "from nltk.corpus import stopwords\n",
        "from wordcloud import WordCloud\n",
        "\n",
        "from sklearn.feature_extraction.text import CountVectorizer\n",
        "from sklearn.naive_bayes import MultinomialNB\n",
        "from sklearn import metrics\n",
        "\n",
        "import warnings\n",
        "warnings.filterwarnings(\"ignore\")\n",
        "\n",
        "import os"
      ],
      "id": "521cc44f",
      "execution_count": 2,
      "outputs": []
    },
    {
      "cell_type": "markdown",
      "metadata": {
        "papermill": {
          "duration": 0.018131,
          "end_time": "2021-11-18T02:10:04.006107",
          "exception": false,
          "start_time": "2021-11-18T02:10:03.987976",
          "status": "completed"
        },
        "tags": [],
        "id": "dab8d92e"
      },
      "source": [
        "##Upload Datasets"
      ],
      "id": "dab8d92e"
    },
    {
      "cell_type": "code",
      "metadata": {
        "execution": {
          "iopub.execute_input": "2021-11-18T02:10:04.048741Z",
          "iopub.status.busy": "2021-11-18T02:10:04.048033Z",
          "iopub.status.idle": "2021-11-18T02:10:04.050049Z",
          "shell.execute_reply": "2021-11-18T02:10:04.050645Z",
          "shell.execute_reply.started": "2021-11-18T00:50:57.658716Z"
        },
        "papermill": {
          "duration": 0.025689,
          "end_time": "2021-11-18T02:10:04.050809",
          "exception": false,
          "start_time": "2021-11-18T02:10:04.025120",
          "status": "completed"
        },
        "tags": [],
        "id": "e817c0ea"
      },
      "source": [
        "TRAIN_DATA_PATH = \"/content/drive/MyDrive/Colab Notebooks/text analytics/train.csv\"\n",
        "TEST_DATA_PATH = \"/content/drive/MyDrive/Colab Notebooks/text analytics/comments_to_score.csv\"\n",
        "VALID_DATA_PATH = \"/content/drive/MyDrive/Colab Notebooks/text analytics/validation_data.csv\"\n",
        "SAMPLE_SUBMISSION = \"/content/drive/MyDrive/Colab Notebooks/text analytics/sample_submission.csv\""
      ],
      "id": "e817c0ea",
      "execution_count": 3,
      "outputs": []
    },
    {
      "cell_type": "code",
      "metadata": {
        "execution": {
          "iopub.execute_input": "2021-11-18T02:10:04.090877Z",
          "iopub.status.busy": "2021-11-18T02:10:04.090175Z",
          "iopub.status.idle": "2021-11-18T02:10:06.858166Z",
          "shell.execute_reply": "2021-11-18T02:10:06.857547Z",
          "shell.execute_reply.started": "2021-11-18T00:51:00.611921Z"
        },
        "papermill": {
          "duration": 2.789085,
          "end_time": "2021-11-18T02:10:06.858307",
          "exception": false,
          "start_time": "2021-11-18T02:10:04.069222",
          "status": "completed"
        },
        "tags": [],
        "id": "e1b84813"
      },
      "source": [
        "df_train = pd.read_csv(TRAIN_DATA_PATH)\n",
        "df_test = pd.read_csv(TEST_DATA_PATH)\n",
        "df_validation_data = pd.read_csv(VALID_DATA_PATH)\n",
        "df_sample_submission = pd.read_csv(SAMPLE_SUBMISSION)"
      ],
      "id": "e1b84813",
      "execution_count": 4,
      "outputs": []
    },
    {
      "cell_type": "markdown",
      "metadata": {
        "id": "DCrcptnEnUEG"
      },
      "source": [
        "#Pre Processing"
      ],
      "id": "DCrcptnEnUEG"
    },
    {
      "cell_type": "code",
      "metadata": {
        "colab": {
          "base_uri": "https://localhost:8080/",
          "height": 589
        },
        "id": "J-mGPzioTUyI",
        "outputId": "4b764cde-d9bb-44f3-8ac2-dc05b4bcb3cd"
      },
      "source": [
        "df_train"
      ],
      "id": "J-mGPzioTUyI",
      "execution_count": 5,
      "outputs": [
        {
          "output_type": "execute_result",
          "data": {
            "text/html": [
              "<div>\n",
              "<style scoped>\n",
              "    .dataframe tbody tr th:only-of-type {\n",
              "        vertical-align: middle;\n",
              "    }\n",
              "\n",
              "    .dataframe tbody tr th {\n",
              "        vertical-align: top;\n",
              "    }\n",
              "\n",
              "    .dataframe thead th {\n",
              "        text-align: right;\n",
              "    }\n",
              "</style>\n",
              "<table border=\"1\" class=\"dataframe\">\n",
              "  <thead>\n",
              "    <tr style=\"text-align: right;\">\n",
              "      <th></th>\n",
              "      <th>id</th>\n",
              "      <th>comment_text</th>\n",
              "      <th>toxic</th>\n",
              "      <th>severe_toxic</th>\n",
              "      <th>obscene</th>\n",
              "      <th>threat</th>\n",
              "      <th>insult</th>\n",
              "      <th>identity_hate</th>\n",
              "    </tr>\n",
              "  </thead>\n",
              "  <tbody>\n",
              "    <tr>\n",
              "      <th>0</th>\n",
              "      <td>0000997932d777bf</td>\n",
              "      <td>Explanation\\nWhy the edits made under my usern...</td>\n",
              "      <td>0</td>\n",
              "      <td>0</td>\n",
              "      <td>0</td>\n",
              "      <td>0</td>\n",
              "      <td>0</td>\n",
              "      <td>0</td>\n",
              "    </tr>\n",
              "    <tr>\n",
              "      <th>1</th>\n",
              "      <td>000103f0d9cfb60f</td>\n",
              "      <td>D'aww! He matches this background colour I'm s...</td>\n",
              "      <td>0</td>\n",
              "      <td>0</td>\n",
              "      <td>0</td>\n",
              "      <td>0</td>\n",
              "      <td>0</td>\n",
              "      <td>0</td>\n",
              "    </tr>\n",
              "    <tr>\n",
              "      <th>2</th>\n",
              "      <td>000113f07ec002fd</td>\n",
              "      <td>Hey man, I'm really not trying to edit war. It...</td>\n",
              "      <td>0</td>\n",
              "      <td>0</td>\n",
              "      <td>0</td>\n",
              "      <td>0</td>\n",
              "      <td>0</td>\n",
              "      <td>0</td>\n",
              "    </tr>\n",
              "    <tr>\n",
              "      <th>3</th>\n",
              "      <td>0001b41b1c6bb37e</td>\n",
              "      <td>\"\\nMore\\nI can't make any real suggestions on ...</td>\n",
              "      <td>0</td>\n",
              "      <td>0</td>\n",
              "      <td>0</td>\n",
              "      <td>0</td>\n",
              "      <td>0</td>\n",
              "      <td>0</td>\n",
              "    </tr>\n",
              "    <tr>\n",
              "      <th>4</th>\n",
              "      <td>0001d958c54c6e35</td>\n",
              "      <td>You, sir, are my hero. Any chance you remember...</td>\n",
              "      <td>0</td>\n",
              "      <td>0</td>\n",
              "      <td>0</td>\n",
              "      <td>0</td>\n",
              "      <td>0</td>\n",
              "      <td>0</td>\n",
              "    </tr>\n",
              "    <tr>\n",
              "      <th>...</th>\n",
              "      <td>...</td>\n",
              "      <td>...</td>\n",
              "      <td>...</td>\n",
              "      <td>...</td>\n",
              "      <td>...</td>\n",
              "      <td>...</td>\n",
              "      <td>...</td>\n",
              "      <td>...</td>\n",
              "    </tr>\n",
              "    <tr>\n",
              "      <th>159566</th>\n",
              "      <td>ffe987279560d7ff</td>\n",
              "      <td>\":::::And for the second time of asking, when ...</td>\n",
              "      <td>0</td>\n",
              "      <td>0</td>\n",
              "      <td>0</td>\n",
              "      <td>0</td>\n",
              "      <td>0</td>\n",
              "      <td>0</td>\n",
              "    </tr>\n",
              "    <tr>\n",
              "      <th>159567</th>\n",
              "      <td>ffea4adeee384e90</td>\n",
              "      <td>You should be ashamed of yourself \\n\\nThat is ...</td>\n",
              "      <td>0</td>\n",
              "      <td>0</td>\n",
              "      <td>0</td>\n",
              "      <td>0</td>\n",
              "      <td>0</td>\n",
              "      <td>0</td>\n",
              "    </tr>\n",
              "    <tr>\n",
              "      <th>159568</th>\n",
              "      <td>ffee36eab5c267c9</td>\n",
              "      <td>Spitzer \\n\\nUmm, theres no actual article for ...</td>\n",
              "      <td>0</td>\n",
              "      <td>0</td>\n",
              "      <td>0</td>\n",
              "      <td>0</td>\n",
              "      <td>0</td>\n",
              "      <td>0</td>\n",
              "    </tr>\n",
              "    <tr>\n",
              "      <th>159569</th>\n",
              "      <td>fff125370e4aaaf3</td>\n",
              "      <td>And it looks like it was actually you who put ...</td>\n",
              "      <td>0</td>\n",
              "      <td>0</td>\n",
              "      <td>0</td>\n",
              "      <td>0</td>\n",
              "      <td>0</td>\n",
              "      <td>0</td>\n",
              "    </tr>\n",
              "    <tr>\n",
              "      <th>159570</th>\n",
              "      <td>fff46fc426af1f9a</td>\n",
              "      <td>\"\\nAnd ... I really don't think you understand...</td>\n",
              "      <td>0</td>\n",
              "      <td>0</td>\n",
              "      <td>0</td>\n",
              "      <td>0</td>\n",
              "      <td>0</td>\n",
              "      <td>0</td>\n",
              "    </tr>\n",
              "  </tbody>\n",
              "</table>\n",
              "<p>159571 rows × 8 columns</p>\n",
              "</div>"
            ],
            "text/plain": [
              "                      id  ... identity_hate\n",
              "0       0000997932d777bf  ...             0\n",
              "1       000103f0d9cfb60f  ...             0\n",
              "2       000113f07ec002fd  ...             0\n",
              "3       0001b41b1c6bb37e  ...             0\n",
              "4       0001d958c54c6e35  ...             0\n",
              "...                  ...  ...           ...\n",
              "159566  ffe987279560d7ff  ...             0\n",
              "159567  ffea4adeee384e90  ...             0\n",
              "159568  ffee36eab5c267c9  ...             0\n",
              "159569  fff125370e4aaaf3  ...             0\n",
              "159570  fff46fc426af1f9a  ...             0\n",
              "\n",
              "[159571 rows x 8 columns]"
            ]
          },
          "metadata": {},
          "execution_count": 5
        }
      ]
    },
    {
      "cell_type": "markdown",
      "metadata": {
        "papermill": {
          "duration": 0.018452,
          "end_time": "2021-11-18T02:10:06.895603",
          "exception": false,
          "start_time": "2021-11-18T02:10:06.877151",
          "status": "completed"
        },
        "tags": [],
        "id": "31810e79"
      },
      "source": [
        "##Function"
      ],
      "id": "31810e79"
    },
    {
      "cell_type": "code",
      "metadata": {
        "execution": {
          "iopub.execute_input": "2021-11-18T02:10:06.943311Z",
          "iopub.status.busy": "2021-11-18T02:10:06.941193Z",
          "iopub.status.idle": "2021-11-18T02:10:06.946128Z",
          "shell.execute_reply": "2021-11-18T02:10:06.945634Z",
          "shell.execute_reply.started": "2021-11-18T02:06:06.019338Z"
        },
        "papermill": {
          "duration": 0.031973,
          "end_time": "2021-11-18T02:10:06.946267",
          "exception": false,
          "start_time": "2021-11-18T02:10:06.914294",
          "status": "completed"
        },
        "tags": [],
        "id": "b15178a6"
      },
      "source": [
        "def clean_phrases(phrase):\n",
        "    \"\"\"\n",
        "    The aim of this function is to clear text following somme patterns.\n",
        "    \n",
        "    Args:\n",
        "    phrase(str): String to be clean\n",
        "    \n",
        "    Return\n",
        "    text(str): A cleaned phrase.\n",
        "    \n",
        "    \"\"\"\n",
        "    stop_words = stopwords.words('english')\n",
        "    unewlevant_words = ['wiki','wikipedia','page']\n",
        "    \n",
        "    \n",
        "    PATTERN = r'''(?x)                  # Flag para iniciar el modo verbose\n",
        "                      (?:[A-Z]\\.)+            # Hace match con abreviaciones como U.S.A.\n",
        "                      | \\w+(?:-\\w+)*         # Hace match con palabras que pueden tener un guión interno\n",
        "                      | \\$?\\d+(?:\\.\\d+)?%?  # Hace match con dinero o porcentajes como $15.5 o 100%\n",
        "                      | \\.\\.\\.              # Hace match con puntos suspensivos\n",
        "                      | [][.,;\"'?():-_`]    # Hace match con signos de puntuación\n",
        "        '''\n",
        "\n",
        "    word_token = nltk.regexp_tokenize(phrase, pattern= PATTERN)\n",
        "    word_token = [palabra for palabra in word_token if len(palabra)>3 and palabra not in unewlevant_words and palabra not in stop_words]\n",
        "\n",
        "    text = ''\n",
        "    for _ in range(len(word_token)):\n",
        "        text += word_token[_] + ' '\n",
        "    \n",
        "    return text\n",
        "\n",
        "\n",
        "\n",
        "def document_features(document):\n",
        "    \n",
        "    \"\"\"\n",
        "    fungsi untuk memfilter teks berdasarkan aturan yang sudah ditentukan.\n",
        "    \n",
        "    Arg:\n",
        "    \n",
        "    document(str): berisikan teks yang akan difilter.\n",
        "    \n",
        "    Return\n",
        "    features(dict) dict with word and boolean response if words contained exists.\n",
        "    \n",
        "    \"\"\"\n",
        "    \n",
        "    document_words = set(document)\n",
        "    features = {}\n",
        "    for word in document_words:\n",
        "        features['contains({})'.format(word)] = (word in document_words)\n",
        "    return features\n"
      ],
      "id": "b15178a6",
      "execution_count": 6,
      "outputs": []
    },
    {
      "cell_type": "markdown",
      "metadata": {
        "papermill": {
          "duration": 0.018275,
          "end_time": "2021-11-18T02:10:06.983502",
          "exception": false,
          "start_time": "2021-11-18T02:10:06.965227",
          "status": "completed"
        },
        "tags": [],
        "id": "d24766b2"
      },
      "source": [
        "##Clean Text\n",
        "\n",
        "gabungan dataset(train and test) untuk prediksi yang lebih baik"
      ],
      "id": "d24766b2"
    },
    {
      "cell_type": "code",
      "metadata": {
        "colab": {
          "base_uri": "https://localhost:8080/"
        },
        "id": "Q8OTyOhLMgkW",
        "outputId": "fe740cea-cf03-4b59-a8b3-e572d2c56902"
      },
      "source": [
        "import nltk\n",
        "nltk.download('stopwords')"
      ],
      "id": "Q8OTyOhLMgkW",
      "execution_count": 7,
      "outputs": [
        {
          "output_type": "stream",
          "name": "stdout",
          "text": [
            "[nltk_data] Downloading package stopwords to /root/nltk_data...\n",
            "[nltk_data]   Unzipping corpora/stopwords.zip.\n"
          ]
        },
        {
          "output_type": "execute_result",
          "data": {
            "text/plain": [
              "True"
            ]
          },
          "metadata": {},
          "execution_count": 7
        }
      ]
    },
    {
      "cell_type": "code",
      "metadata": {
        "execution": {
          "iopub.execute_input": "2021-11-18T02:10:07.028089Z",
          "iopub.status.busy": "2021-11-18T02:10:07.027452Z",
          "iopub.status.idle": "2021-11-18T02:26:28.416504Z",
          "shell.execute_reply": "2021-11-18T02:26:28.382434Z",
          "shell.execute_reply.started": "2021-11-18T00:52:10.865266Z"
        },
        "papermill": {
          "duration": 981.414737,
          "end_time": "2021-11-18T02:26:28.416704",
          "exception": false,
          "start_time": "2021-11-18T02:10:07.001967",
          "status": "completed"
        },
        "tags": [],
        "colab": {
          "base_uri": "https://localhost:8080/"
        },
        "id": "ad149933",
        "outputId": "4445dc98-d1cb-449b-f063-684ee18af546"
      },
      "source": [
        "for _ in progressbar.progressbar(range(len(df_train))):\n",
        "    phrase = df_train.loc[_,'comment_text']\n",
        "    df_train.loc[_,'comment_text'] = clean_phrases(phrase).lower()\n",
        "    \n",
        "for _ in progressbar.progressbar(range(len(df_test))):\n",
        "    phrase = df_test.loc[_,'text']\n",
        "    df_test.loc[_,'text'] = clean_phrases(phrase).lower()"
      ],
      "id": "ad149933",
      "execution_count": 8,
      "outputs": [
        {
          "output_type": "stream",
          "name": "stderr",
          "text": [
            "100% (159571 of 159571) |################| Elapsed Time: 0:37:00 Time:  0:37:00\n",
            "100% (7537 of 7537) |####################| Elapsed Time: 0:00:07 Time:  0:00:07\n"
          ]
        }
      ]
    },
    {
      "cell_type": "code",
      "metadata": {
        "execution": {
          "iopub.execute_input": "2021-11-18T02:26:34.196260Z",
          "iopub.status.busy": "2021-11-18T02:26:34.195168Z",
          "iopub.status.idle": "2021-11-18T02:26:34.357608Z",
          "shell.execute_reply": "2021-11-18T02:26:34.358625Z",
          "shell.execute_reply.started": "2021-11-18T01:10:02.219291Z"
        },
        "papermill": {
          "duration": 3.080491,
          "end_time": "2021-11-18T02:26:34.358812",
          "exception": false,
          "start_time": "2021-11-18T02:26:31.278321",
          "status": "completed"
        },
        "tags": [],
        "id": "f97c9ae3",
        "colab": {
          "base_uri": "https://localhost:8080/"
        },
        "outputId": "bc317d4b-5682-46e4-b24c-c106e5d23ffc"
      },
      "source": [
        "# Create a score that messure how much toxic is a comment\n",
        "cat_mtpl = {'obscene': 0.16, 'toxic': 0.32, 'threat': 0.48, \n",
        "            'insult': 0.64, 'severe_toxic': 0.8, 'identity_hate': 1}\n",
        "\n",
        "for category in cat_mtpl:\n",
        "    df_train[category] = df_train[category] * cat_mtpl[category]\n",
        "\n",
        "df_train['score'] = df_train.loc[:, 'toxic':'identity_hate'].sum(axis=1)\n",
        "\n",
        "#Clases aren't balanced, that's whya a balance is needed\n",
        "#Balance the clases\n",
        "n_samples_toxic = len(df_train[df_train['score'] != 0])\n",
        "n_samples_normal = len(df_train) - n_samples_toxic\n",
        "\n",
        "idx_to_drop = df_train[df_train['score'] == 0].index[n_samples_toxic//5:]\n",
        "df_train = df_train.drop(idx_to_drop)\n",
        "\n",
        "print(f'Reduced number of neutral text samples from {n_samples_normal} to {n_samples_toxic//5}.')\n",
        "print(f'Total number of training samples: {len(df_train)}')\n"
      ],
      "id": "f97c9ae3",
      "execution_count": 9,
      "outputs": [
        {
          "output_type": "stream",
          "name": "stdout",
          "text": [
            "Reduced number of neutral text samples from 143346 to 3245.\n",
            "Total number of training samples: 19470\n"
          ]
        }
      ]
    },
    {
      "cell_type": "code",
      "metadata": {
        "colab": {
          "base_uri": "https://localhost:8080/",
          "height": 555
        },
        "id": "PEDDzHBHqg9T",
        "outputId": "2aa5bb8e-eb7b-4050-ef27-e8c31d3a2c43"
      },
      "source": [
        "df_train"
      ],
      "id": "PEDDzHBHqg9T",
      "execution_count": 10,
      "outputs": [
        {
          "output_type": "execute_result",
          "data": {
            "text/html": [
              "<div>\n",
              "<style scoped>\n",
              "    .dataframe tbody tr th:only-of-type {\n",
              "        vertical-align: middle;\n",
              "    }\n",
              "\n",
              "    .dataframe tbody tr th {\n",
              "        vertical-align: top;\n",
              "    }\n",
              "\n",
              "    .dataframe thead th {\n",
              "        text-align: right;\n",
              "    }\n",
              "</style>\n",
              "<table border=\"1\" class=\"dataframe\">\n",
              "  <thead>\n",
              "    <tr style=\"text-align: right;\">\n",
              "      <th></th>\n",
              "      <th>id</th>\n",
              "      <th>comment_text</th>\n",
              "      <th>toxic</th>\n",
              "      <th>severe_toxic</th>\n",
              "      <th>obscene</th>\n",
              "      <th>threat</th>\n",
              "      <th>insult</th>\n",
              "      <th>identity_hate</th>\n",
              "      <th>score</th>\n",
              "    </tr>\n",
              "  </thead>\n",
              "  <tbody>\n",
              "    <tr>\n",
              "      <th>0</th>\n",
              "      <td>0000997932d777bf</td>\n",
              "      <td>explanation edits made username hardcore metal...</td>\n",
              "      <td>0.00</td>\n",
              "      <td>0.0</td>\n",
              "      <td>0.00</td>\n",
              "      <td>0.0</td>\n",
              "      <td>0.00</td>\n",
              "      <td>0</td>\n",
              "      <td>0.00</td>\n",
              "    </tr>\n",
              "    <tr>\n",
              "      <th>1</th>\n",
              "      <td>000103f0d9cfb60f</td>\n",
              "      <td>matches background colour seemingly stuck than...</td>\n",
              "      <td>0.00</td>\n",
              "      <td>0.0</td>\n",
              "      <td>0.00</td>\n",
              "      <td>0.0</td>\n",
              "      <td>0.00</td>\n",
              "      <td>0</td>\n",
              "      <td>0.00</td>\n",
              "    </tr>\n",
              "    <tr>\n",
              "      <th>2</th>\n",
              "      <td>000113f07ec002fd</td>\n",
              "      <td>really trying edit constantly removing relevan...</td>\n",
              "      <td>0.00</td>\n",
              "      <td>0.0</td>\n",
              "      <td>0.00</td>\n",
              "      <td>0.0</td>\n",
              "      <td>0.00</td>\n",
              "      <td>0</td>\n",
              "      <td>0.00</td>\n",
              "    </tr>\n",
              "    <tr>\n",
              "      <th>3</th>\n",
              "      <td>0001b41b1c6bb37e</td>\n",
              "      <td>more make real suggestions improvement wondere...</td>\n",
              "      <td>0.00</td>\n",
              "      <td>0.0</td>\n",
              "      <td>0.00</td>\n",
              "      <td>0.0</td>\n",
              "      <td>0.00</td>\n",
              "      <td>0</td>\n",
              "      <td>0.00</td>\n",
              "    </tr>\n",
              "    <tr>\n",
              "      <th>4</th>\n",
              "      <td>0001d958c54c6e35</td>\n",
              "      <td>hero chance remember</td>\n",
              "      <td>0.00</td>\n",
              "      <td>0.0</td>\n",
              "      <td>0.00</td>\n",
              "      <td>0.0</td>\n",
              "      <td>0.00</td>\n",
              "      <td>0</td>\n",
              "      <td>0.00</td>\n",
              "    </tr>\n",
              "    <tr>\n",
              "      <th>...</th>\n",
              "      <td>...</td>\n",
              "      <td>...</td>\n",
              "      <td>...</td>\n",
              "      <td>...</td>\n",
              "      <td>...</td>\n",
              "      <td>...</td>\n",
              "      <td>...</td>\n",
              "      <td>...</td>\n",
              "      <td>...</td>\n",
              "    </tr>\n",
              "    <tr>\n",
              "      <th>159494</th>\n",
              "      <td>fef4cf7ba0012866</td>\n",
              "      <td>previous conversation fucking shit eating libe...</td>\n",
              "      <td>0.32</td>\n",
              "      <td>0.0</td>\n",
              "      <td>0.16</td>\n",
              "      <td>0.0</td>\n",
              "      <td>0.64</td>\n",
              "      <td>1</td>\n",
              "      <td>2.12</td>\n",
              "    </tr>\n",
              "    <tr>\n",
              "      <th>159514</th>\n",
              "      <td>ff39a2895fc3b40e</td>\n",
              "      <td>mischievious pubic hair</td>\n",
              "      <td>0.32</td>\n",
              "      <td>0.0</td>\n",
              "      <td>0.00</td>\n",
              "      <td>0.0</td>\n",
              "      <td>0.64</td>\n",
              "      <td>0</td>\n",
              "      <td>0.96</td>\n",
              "    </tr>\n",
              "    <tr>\n",
              "      <th>159541</th>\n",
              "      <td>ffa33d3122b599d6</td>\n",
              "      <td>your absurd edits your absurd edits great whit...</td>\n",
              "      <td>0.32</td>\n",
              "      <td>0.0</td>\n",
              "      <td>0.16</td>\n",
              "      <td>0.0</td>\n",
              "      <td>0.64</td>\n",
              "      <td>0</td>\n",
              "      <td>1.12</td>\n",
              "    </tr>\n",
              "    <tr>\n",
              "      <th>159546</th>\n",
              "      <td>ffb47123b2d82762</td>\n",
              "      <td>listen ever delete edits ever annoyed 2k15 ros...</td>\n",
              "      <td>0.32</td>\n",
              "      <td>0.0</td>\n",
              "      <td>0.00</td>\n",
              "      <td>0.0</td>\n",
              "      <td>0.64</td>\n",
              "      <td>0</td>\n",
              "      <td>0.96</td>\n",
              "    </tr>\n",
              "    <tr>\n",
              "      <th>159554</th>\n",
              "      <td>ffbdbb0483ed0841</td>\n",
              "      <td>going keep posting stuff deleted fucking site ...</td>\n",
              "      <td>0.32</td>\n",
              "      <td>0.0</td>\n",
              "      <td>0.16</td>\n",
              "      <td>0.0</td>\n",
              "      <td>0.64</td>\n",
              "      <td>0</td>\n",
              "      <td>1.12</td>\n",
              "    </tr>\n",
              "  </tbody>\n",
              "</table>\n",
              "<p>19470 rows × 9 columns</p>\n",
              "</div>"
            ],
            "text/plain": [
              "                      id  ... score\n",
              "0       0000997932d777bf  ...  0.00\n",
              "1       000103f0d9cfb60f  ...  0.00\n",
              "2       000113f07ec002fd  ...  0.00\n",
              "3       0001b41b1c6bb37e  ...  0.00\n",
              "4       0001d958c54c6e35  ...  0.00\n",
              "...                  ...  ...   ...\n",
              "159494  fef4cf7ba0012866  ...  2.12\n",
              "159514  ff39a2895fc3b40e  ...  0.96\n",
              "159541  ffa33d3122b599d6  ...  1.12\n",
              "159546  ffb47123b2d82762  ...  0.96\n",
              "159554  ffbdbb0483ed0841  ...  1.12\n",
              "\n",
              "[19470 rows x 9 columns]"
            ]
          },
          "metadata": {},
          "execution_count": 10
        }
      ]
    },
    {
      "cell_type": "markdown",
      "metadata": {
        "id": "Soy1XAUYnZTo"
      },
      "source": [
        "#EDA"
      ],
      "id": "Soy1XAUYnZTo"
    },
    {
      "cell_type": "code",
      "metadata": {
        "colab": {
          "base_uri": "https://localhost:8080/",
          "height": 392
        },
        "id": "dfpPhHMWoCHy",
        "outputId": "96f7ccf5-714e-4740-8558-1726497c0ada"
      },
      "source": [
        "length_train = df_train['comment_text'].str.len()\n",
        "length_test = df_test['text'].str.len()\n",
        "plt.figure(figsize=(10,6))\n",
        "plt.hist(length_train, bins=50, label=\"Train_Teks\", color=\"darkblue\")\n",
        "plt.hist(length_test, bins=50, label=\"Test_Teks\", color = \"skyblue\")\n",
        "plt.legend()"
      ],
      "id": "dfpPhHMWoCHy",
      "execution_count": 12,
      "outputs": [
        {
          "output_type": "execute_result",
          "data": {
            "text/plain": [
              "<matplotlib.legend.Legend at 0x7fb9d461f350>"
            ]
          },
          "metadata": {},
          "execution_count": 12
        },
        {
          "output_type": "display_data",
          "data": {
            "image/png": "[encoded data removed]",
            "text/plain": [
              "<Figure size 720x432 with 1 Axes>"
            ]
          },
          "metadata": {
            "needs_background": "light"
          }
        }
      ]
    },
    {
      "cell_type": "code",
      "metadata": {
        "colab": {
          "base_uri": "https://localhost:8080/"
        },
        "id": "iziy7A9S186z",
        "outputId": "cd8e50d1-6444-4444-b44a-aa23463b91eb"
      },
      "source": [
        "df_train.info()"
      ],
      "id": "iziy7A9S186z",
      "execution_count": 11,
      "outputs": [
        {
          "output_type": "stream",
          "name": "stdout",
          "text": [
            "<class 'pandas.core.frame.DataFrame'>\n",
            "Int64Index: 19470 entries, 0 to 159554\n",
            "Data columns (total 9 columns):\n",
            " #   Column         Non-Null Count  Dtype  \n",
            "---  ------         --------------  -----  \n",
            " 0   id             19470 non-null  object \n",
            " 1   comment_text   19470 non-null  object \n",
            " 2   toxic          19470 non-null  float64\n",
            " 3   severe_toxic   19470 non-null  float64\n",
            " 4   obscene        19470 non-null  float64\n",
            " 5   threat         19470 non-null  float64\n",
            " 6   insult         19470 non-null  float64\n",
            " 7   identity_hate  19470 non-null  int64  \n",
            " 8   score          19470 non-null  float64\n",
            "dtypes: float64(6), int64(1), object(2)\n",
            "memory usage: 1.5+ MB\n"
          ]
        }
      ]
    },
    {
      "cell_type": "code",
      "metadata": {
        "colab": {
          "base_uri": "https://localhost:8080/",
          "height": 419
        },
        "id": "VJHroNr02C81",
        "outputId": "68dba652-9e11-49c3-9286-b6989455d9a7"
      },
      "source": [
        "df_train.isnull()"
      ],
      "id": "VJHroNr02C81",
      "execution_count": 12,
      "outputs": [
        {
          "output_type": "execute_result",
          "data": {
            "text/html": [
              "<div>\n",
              "<style scoped>\n",
              "    .dataframe tbody tr th:only-of-type {\n",
              "        vertical-align: middle;\n",
              "    }\n",
              "\n",
              "    .dataframe tbody tr th {\n",
              "        vertical-align: top;\n",
              "    }\n",
              "\n",
              "    .dataframe thead th {\n",
              "        text-align: right;\n",
              "    }\n",
              "</style>\n",
              "<table border=\"1\" class=\"dataframe\">\n",
              "  <thead>\n",
              "    <tr style=\"text-align: right;\">\n",
              "      <th></th>\n",
              "      <th>id</th>\n",
              "      <th>comment_text</th>\n",
              "      <th>toxic</th>\n",
              "      <th>severe_toxic</th>\n",
              "      <th>obscene</th>\n",
              "      <th>threat</th>\n",
              "      <th>insult</th>\n",
              "      <th>identity_hate</th>\n",
              "      <th>score</th>\n",
              "    </tr>\n",
              "  </thead>\n",
              "  <tbody>\n",
              "    <tr>\n",
              "      <th>0</th>\n",
              "      <td>False</td>\n",
              "      <td>False</td>\n",
              "      <td>False</td>\n",
              "      <td>False</td>\n",
              "      <td>False</td>\n",
              "      <td>False</td>\n",
              "      <td>False</td>\n",
              "      <td>False</td>\n",
              "      <td>False</td>\n",
              "    </tr>\n",
              "    <tr>\n",
              "      <th>1</th>\n",
              "      <td>False</td>\n",
              "      <td>False</td>\n",
              "      <td>False</td>\n",
              "      <td>False</td>\n",
              "      <td>False</td>\n",
              "      <td>False</td>\n",
              "      <td>False</td>\n",
              "      <td>False</td>\n",
              "      <td>False</td>\n",
              "    </tr>\n",
              "    <tr>\n",
              "      <th>2</th>\n",
              "      <td>False</td>\n",
              "      <td>False</td>\n",
              "      <td>False</td>\n",
              "      <td>False</td>\n",
              "      <td>False</td>\n",
              "      <td>False</td>\n",
              "      <td>False</td>\n",
              "      <td>False</td>\n",
              "      <td>False</td>\n",
              "    </tr>\n",
              "    <tr>\n",
              "      <th>3</th>\n",
              "      <td>False</td>\n",
              "      <td>False</td>\n",
              "      <td>False</td>\n",
              "      <td>False</td>\n",
              "      <td>False</td>\n",
              "      <td>False</td>\n",
              "      <td>False</td>\n",
              "      <td>False</td>\n",
              "      <td>False</td>\n",
              "    </tr>\n",
              "    <tr>\n",
              "      <th>4</th>\n",
              "      <td>False</td>\n",
              "      <td>False</td>\n",
              "      <td>False</td>\n",
              "      <td>False</td>\n",
              "      <td>False</td>\n",
              "      <td>False</td>\n",
              "      <td>False</td>\n",
              "      <td>False</td>\n",
              "      <td>False</td>\n",
              "    </tr>\n",
              "    <tr>\n",
              "      <th>...</th>\n",
              "      <td>...</td>\n",
              "      <td>...</td>\n",
              "      <td>...</td>\n",
              "      <td>...</td>\n",
              "      <td>...</td>\n",
              "      <td>...</td>\n",
              "      <td>...</td>\n",
              "      <td>...</td>\n",
              "      <td>...</td>\n",
              "    </tr>\n",
              "    <tr>\n",
              "      <th>159494</th>\n",
              "      <td>False</td>\n",
              "      <td>False</td>\n",
              "      <td>False</td>\n",
              "      <td>False</td>\n",
              "      <td>False</td>\n",
              "      <td>False</td>\n",
              "      <td>False</td>\n",
              "      <td>False</td>\n",
              "      <td>False</td>\n",
              "    </tr>\n",
              "    <tr>\n",
              "      <th>159514</th>\n",
              "      <td>False</td>\n",
              "      <td>False</td>\n",
              "      <td>False</td>\n",
              "      <td>False</td>\n",
              "      <td>False</td>\n",
              "      <td>False</td>\n",
              "      <td>False</td>\n",
              "      <td>False</td>\n",
              "      <td>False</td>\n",
              "    </tr>\n",
              "    <tr>\n",
              "      <th>159541</th>\n",
              "      <td>False</td>\n",
              "      <td>False</td>\n",
              "      <td>False</td>\n",
              "      <td>False</td>\n",
              "      <td>False</td>\n",
              "      <td>False</td>\n",
              "      <td>False</td>\n",
              "      <td>False</td>\n",
              "      <td>False</td>\n",
              "    </tr>\n",
              "    <tr>\n",
              "      <th>159546</th>\n",
              "      <td>False</td>\n",
              "      <td>False</td>\n",
              "      <td>False</td>\n",
              "      <td>False</td>\n",
              "      <td>False</td>\n",
              "      <td>False</td>\n",
              "      <td>False</td>\n",
              "      <td>False</td>\n",
              "      <td>False</td>\n",
              "    </tr>\n",
              "    <tr>\n",
              "      <th>159554</th>\n",
              "      <td>False</td>\n",
              "      <td>False</td>\n",
              "      <td>False</td>\n",
              "      <td>False</td>\n",
              "      <td>False</td>\n",
              "      <td>False</td>\n",
              "      <td>False</td>\n",
              "      <td>False</td>\n",
              "      <td>False</td>\n",
              "    </tr>\n",
              "  </tbody>\n",
              "</table>\n",
              "<p>19470 rows × 9 columns</p>\n",
              "</div>"
            ],
            "text/plain": [
              "           id  comment_text  toxic  ...  insult  identity_hate  score\n",
              "0       False         False  False  ...   False          False  False\n",
              "1       False         False  False  ...   False          False  False\n",
              "2       False         False  False  ...   False          False  False\n",
              "3       False         False  False  ...   False          False  False\n",
              "4       False         False  False  ...   False          False  False\n",
              "...       ...           ...    ...  ...     ...            ...    ...\n",
              "159494  False         False  False  ...   False          False  False\n",
              "159514  False         False  False  ...   False          False  False\n",
              "159541  False         False  False  ...   False          False  False\n",
              "159546  False         False  False  ...   False          False  False\n",
              "159554  False         False  False  ...   False          False  False\n",
              "\n",
              "[19470 rows x 9 columns]"
            ]
          },
          "metadata": {},
          "execution_count": 12
        }
      ]
    },
    {
      "cell_type": "code",
      "metadata": {
        "colab": {
          "base_uri": "https://localhost:8080/"
        },
        "id": "jXgRf-CT2Mf0",
        "outputId": "83541a6f-ade6-4fff-867c-808761f26227"
      },
      "source": [
        "df_train.isnull().count()"
      ],
      "id": "jXgRf-CT2Mf0",
      "execution_count": 16,
      "outputs": [
        {
          "output_type": "execute_result",
          "data": {
            "text/plain": [
              "id               19470\n",
              "comment_text     19470\n",
              "toxic            19470\n",
              "severe_toxic     19470\n",
              "obscene          19470\n",
              "threat           19470\n",
              "insult           19470\n",
              "identity_hate    19470\n",
              "score            19470\n",
              "dtype: int64"
            ]
          },
          "metadata": {},
          "execution_count": 16
        }
      ]
    },
    {
      "cell_type": "code",
      "metadata": {
        "colab": {
          "base_uri": "https://localhost:8080/",
          "height": 380
        },
        "id": "UupR-pj2oPDZ",
        "outputId": "e0283ee2-6ba7-4940-9000-8987644ae687"
      },
      "source": [
        "#data pada data train\n",
        "def wordCloud(words):\n",
        "  wordCloud = WordCloud(width=800, height=500, background_color='white', random_state=21, max_font_size=120).generate(words)\n",
        "\n",
        "  plt.figure(figsize=(10, 7))\n",
        "  plt.imshow(wordCloud, interpolation='bilinear')\n",
        "  plt.axis('off')\n",
        "\n",
        "all_words = ''.join([text for text in df_train['comment_text']])\n",
        "wordCloud(all_words)"
      ],
      "id": "UupR-pj2oPDZ",
      "execution_count": 13,
      "outputs": [
        {
          "output_type": "display_data",
          "data": {
            "image/png": "[encoded data removed]",
            "text/plain": [
              "<Figure size 720x504 with 1 Axes>"
            ]
          },
          "metadata": {
            "needs_background": "light"
          }
        }
      ]
    },
    {
      "cell_type": "markdown",
      "metadata": {
        "id": "j4NmmYm2nIUW"
      },
      "source": [
        "#Feature Engineering"
      ],
      "id": "j4NmmYm2nIUW"
    },
    {
      "cell_type": "code",
      "metadata": {
        "execution": {
          "iopub.execute_input": "2021-11-18T02:26:40.118683Z",
          "iopub.status.busy": "2021-11-18T02:26:40.117950Z",
          "iopub.status.idle": "2021-11-18T02:26:40.173105Z",
          "shell.execute_reply": "2021-11-18T02:26:40.173606Z",
          "shell.execute_reply.started": "2021-11-18T01:10:02.374021Z"
        },
        "papermill": {
          "duration": 2.959122,
          "end_time": "2021-11-18T02:26:40.173773",
          "exception": false,
          "start_time": "2021-11-18T02:26:37.214651",
          "status": "completed"
        },
        "tags": [],
        "id": "96669690",
        "colab": {
          "base_uri": "https://localhost:8080/",
          "height": 419
        },
        "outputId": "cba576e2-51ee-4a31-a90d-e7e755bf19d5"
      },
      "source": [
        "#Feature engineering for creating \n",
        "df_tragets = pd.DataFrame(pd.unique(df_train['score'].values), columns=['target_value']).sort_values(by='target_value', ascending = True).reset_index(drop=True)\n",
        "THRESHOLD = df_tragets['target_value'].quantile(q=0.2)\n",
        "df_train['sentiment'] = df_train['score'].map(lambda x: 1 if x < THRESHOLD else 2 if x < THRESHOLD*2 else 3 if x < THRESHOLD*3 else 4 if x < THRESHOLD*4 else 5)\n",
        "\n",
        "df_train = df_train[['comment_text','sentiment']].reset_index(drop=True)\n",
        "df_train"
      ],
      "id": "96669690",
      "execution_count": 14,
      "outputs": [
        {
          "output_type": "execute_result",
          "data": {
            "text/html": [
              "<div>\n",
              "<style scoped>\n",
              "    .dataframe tbody tr th:only-of-type {\n",
              "        vertical-align: middle;\n",
              "    }\n",
              "\n",
              "    .dataframe tbody tr th {\n",
              "        vertical-align: top;\n",
              "    }\n",
              "\n",
              "    .dataframe thead th {\n",
              "        text-align: right;\n",
              "    }\n",
              "</style>\n",
              "<table border=\"1\" class=\"dataframe\">\n",
              "  <thead>\n",
              "    <tr style=\"text-align: right;\">\n",
              "      <th></th>\n",
              "      <th>comment_text</th>\n",
              "      <th>sentiment</th>\n",
              "    </tr>\n",
              "  </thead>\n",
              "  <tbody>\n",
              "    <tr>\n",
              "      <th>0</th>\n",
              "      <td>explanation edits made username hardcore metal...</td>\n",
              "      <td>1</td>\n",
              "    </tr>\n",
              "    <tr>\n",
              "      <th>1</th>\n",
              "      <td>matches background colour seemingly stuck than...</td>\n",
              "      <td>1</td>\n",
              "    </tr>\n",
              "    <tr>\n",
              "      <th>2</th>\n",
              "      <td>really trying edit constantly removing relevan...</td>\n",
              "      <td>1</td>\n",
              "    </tr>\n",
              "    <tr>\n",
              "      <th>3</th>\n",
              "      <td>more make real suggestions improvement wondere...</td>\n",
              "      <td>1</td>\n",
              "    </tr>\n",
              "    <tr>\n",
              "      <th>4</th>\n",
              "      <td>hero chance remember</td>\n",
              "      <td>1</td>\n",
              "    </tr>\n",
              "    <tr>\n",
              "      <th>...</th>\n",
              "      <td>...</td>\n",
              "      <td>...</td>\n",
              "    </tr>\n",
              "    <tr>\n",
              "      <th>19465</th>\n",
              "      <td>previous conversation fucking shit eating libe...</td>\n",
              "      <td>3</td>\n",
              "    </tr>\n",
              "    <tr>\n",
              "      <th>19466</th>\n",
              "      <td>mischievious pubic hair</td>\n",
              "      <td>2</td>\n",
              "    </tr>\n",
              "    <tr>\n",
              "      <th>19467</th>\n",
              "      <td>your absurd edits your absurd edits great whit...</td>\n",
              "      <td>2</td>\n",
              "    </tr>\n",
              "    <tr>\n",
              "      <th>19468</th>\n",
              "      <td>listen ever delete edits ever annoyed 2k15 ros...</td>\n",
              "      <td>2</td>\n",
              "    </tr>\n",
              "    <tr>\n",
              "      <th>19469</th>\n",
              "      <td>going keep posting stuff deleted fucking site ...</td>\n",
              "      <td>2</td>\n",
              "    </tr>\n",
              "  </tbody>\n",
              "</table>\n",
              "<p>19470 rows × 2 columns</p>\n",
              "</div>"
            ],
            "text/plain": [
              "                                            comment_text  sentiment\n",
              "0      explanation edits made username hardcore metal...          1\n",
              "1      matches background colour seemingly stuck than...          1\n",
              "2      really trying edit constantly removing relevan...          1\n",
              "3      more make real suggestions improvement wondere...          1\n",
              "4                                  hero chance remember           1\n",
              "...                                                  ...        ...\n",
              "19465  previous conversation fucking shit eating libe...          3\n",
              "19466                           mischievious pubic hair           2\n",
              "19467  your absurd edits your absurd edits great whit...          2\n",
              "19468  listen ever delete edits ever annoyed 2k15 ros...          2\n",
              "19469  going keep posting stuff deleted fucking site ...          2\n",
              "\n",
              "[19470 rows x 2 columns]"
            ]
          },
          "metadata": {},
          "execution_count": 14
        }
      ]
    },
    {
      "cell_type": "code",
      "metadata": {
        "execution": {
          "iopub.execute_input": "2021-11-18T02:26:45.956942Z",
          "iopub.status.busy": "2021-11-18T02:26:45.956288Z",
          "iopub.status.idle": "2021-11-18T02:26:45.966301Z",
          "shell.execute_reply": "2021-11-18T02:26:45.966793Z",
          "shell.execute_reply.started": "2021-11-18T01:10:02.431962Z"
        },
        "papermill": {
          "duration": 2.873261,
          "end_time": "2021-11-18T02:26:45.966968",
          "exception": false,
          "start_time": "2021-11-18T02:26:43.093707",
          "status": "completed"
        },
        "tags": [],
        "id": "e211b02e",
        "colab": {
          "base_uri": "https://localhost:8080/",
          "height": 204
        },
        "outputId": "72408bfb-82ab-43a1-d861-1b50a95d7e6b"
      },
      "source": [
        "df_train.groupby(by='sentiment').count()"
      ],
      "id": "e211b02e",
      "execution_count": 15,
      "outputs": [
        {
          "output_type": "execute_result",
          "data": {
            "text/html": [
              "<div>\n",
              "<style scoped>\n",
              "    .dataframe tbody tr th:only-of-type {\n",
              "        vertical-align: middle;\n",
              "    }\n",
              "\n",
              "    .dataframe tbody tr th {\n",
              "        vertical-align: top;\n",
              "    }\n",
              "\n",
              "    .dataframe thead th {\n",
              "        text-align: right;\n",
              "    }\n",
              "</style>\n",
              "<table border=\"1\" class=\"dataframe\">\n",
              "  <thead>\n",
              "    <tr style=\"text-align: right;\">\n",
              "      <th></th>\n",
              "      <th>comment_text</th>\n",
              "    </tr>\n",
              "    <tr>\n",
              "      <th>sentiment</th>\n",
              "      <th></th>\n",
              "    </tr>\n",
              "  </thead>\n",
              "  <tbody>\n",
              "    <tr>\n",
              "      <th>1</th>\n",
              "      <td>11605</td>\n",
              "    </tr>\n",
              "    <tr>\n",
              "      <th>2</th>\n",
              "      <td>5687</td>\n",
              "    </tr>\n",
              "    <tr>\n",
              "      <th>3</th>\n",
              "      <td>1882</td>\n",
              "    </tr>\n",
              "    <tr>\n",
              "      <th>4</th>\n",
              "      <td>296</td>\n",
              "    </tr>\n",
              "  </tbody>\n",
              "</table>\n",
              "</div>"
            ],
            "text/plain": [
              "           comment_text\n",
              "sentiment              \n",
              "1                 11605\n",
              "2                  5687\n",
              "3                  1882\n",
              "4                   296"
            ]
          },
          "metadata": {},
          "execution_count": 15
        }
      ]
    },
    {
      "cell_type": "code",
      "metadata": {
        "colab": {
          "base_uri": "https://localhost:8080/",
          "height": 319
        },
        "id": "VIIWSQgfneeJ",
        "outputId": "24384106-9d4b-4d1d-c4fa-b1de1ca7bdd9"
      },
      "source": [
        "df_train.groupby('sentiment').size().plot(kind='bar')"
      ],
      "id": "VIIWSQgfneeJ",
      "execution_count": 370,
      "outputs": [
        {
          "output_type": "execute_result",
          "data": {
            "text/plain": [
              "<matplotlib.axes._subplots.AxesSubplot at 0x7fb9d6391050>"
            ]
          },
          "metadata": {},
          "execution_count": 370
        },
        {
          "output_type": "display_data",
          "data": {
            "image/png": "[encoded data removed]",
            "text/plain": [
              "<Figure size 432x288 with 1 Axes>"
            ]
          },
          "metadata": {}
        }
      ]
    },
    {
      "cell_type": "markdown",
      "metadata": {
        "id": "b6stjb_jm7d8"
      },
      "source": [
        "##TF-IDF"
      ],
      "id": "b6stjb_jm7d8"
    },
    {
      "cell_type": "code",
      "metadata": {
        "id": "jPmNZ465ch5_"
      },
      "source": [
        "from sklearn.feature_extraction.text import CountVectorizer, TfidfTransformer, TfidfVectorizer"
      ],
      "id": "jPmNZ465ch5_",
      "execution_count": 16,
      "outputs": []
    },
    {
      "cell_type": "code",
      "metadata": {
        "id": "VvalxZlPcopY"
      },
      "source": [
        "vectorizer = TfidfVectorizer(min_df = 5, max_df = 0.8, sublinear_tf = True, use_idf=True)\n",
        "\n",
        "train_vectorizer = vectorizer.fit_transform(df_train['comment_text'])\n",
        "test_vectorizer = vectorizer.transform(df_test['text'])"
      ],
      "id": "VvalxZlPcopY",
      "execution_count": 17,
      "outputs": []
    },
    {
      "cell_type": "markdown",
      "metadata": {
        "id": "HZYHQv36nBZE"
      },
      "source": [
        "#Modelling"
      ],
      "id": "HZYHQv36nBZE"
    },
    {
      "cell_type": "code",
      "metadata": {
        "id": "PFRZX2ofTMO6"
      },
      "source": [
        "bayes = []\n",
        "knn = []\n",
        "nn = []\n",
        "svc = []\n",
        "neirest = []\n",
        "stochastic = []\n",
        "svma = []\n",
        "dt = []"
      ],
      "id": "PFRZX2ofTMO6",
      "execution_count": 259,
      "outputs": []
    },
    {
      "cell_type": "markdown",
      "metadata": {
        "id": "hP-s_2lNXHIi"
      },
      "source": [
        "##Non TF-IDF"
      ],
      "id": "hP-s_2lNXHIi"
    },
    {
      "cell_type": "code",
      "metadata": {
        "execution": {
          "iopub.execute_input": "2021-11-18T02:26:57.621630Z",
          "iopub.status.busy": "2021-11-18T02:26:57.620752Z",
          "iopub.status.idle": "2021-11-18T02:26:57.623848Z",
          "shell.execute_reply": "2021-11-18T02:26:57.624312Z",
          "shell.execute_reply.started": "2021-11-18T01:50:54.768662Z"
        },
        "papermill": {
          "duration": 2.942618,
          "end_time": "2021-11-18T02:26:57.624516",
          "exception": false,
          "start_time": "2021-11-18T02:26:54.681898",
          "status": "completed"
        },
        "tags": [],
        "id": "hWhD6jHQXHIj"
      },
      "source": [
        "df_train = df_train.reset_index(drop=True)\n",
        "df_train_1 = df_train[:15576]\n",
        "df_train_2 = df_train[15576:].reset_index(drop=True)"
      ],
      "id": "hWhD6jHQXHIj",
      "execution_count": 260,
      "outputs": []
    },
    {
      "cell_type": "code",
      "metadata": {
        "id": "uqlLDniFXvKd"
      },
      "source": [
        "vectorizer_non = CountVectorizer()\n",
        "counts = vectorizer_non.fit_transform(df_train_1['comment_text'].values)"
      ],
      "id": "uqlLDniFXvKd",
      "execution_count": 348,
      "outputs": []
    },
    {
      "cell_type": "markdown",
      "metadata": {
        "papermill": {
          "duration": 2.904864,
          "end_time": "2021-11-18T02:26:51.812818",
          "exception": false,
          "start_time": "2021-11-18T02:26:48.907954",
          "status": "completed"
        },
        "tags": [],
        "id": "By3gu1qJXHIj"
      },
      "source": [
        "### Naive Bayes"
      ],
      "id": "By3gu1qJXHIj"
    },
    {
      "cell_type": "code",
      "metadata": {
        "execution": {
          "iopub.execute_input": "2021-11-18T02:27:03.488168Z",
          "iopub.status.busy": "2021-11-18T02:27:03.487524Z",
          "iopub.status.idle": "2021-11-18T02:27:04.161099Z",
          "shell.execute_reply": "2021-11-18T02:27:04.161612Z",
          "shell.execute_reply.started": "2021-11-18T01:50:56.740968Z"
        },
        "papermill": {
          "duration": 3.556935,
          "end_time": "2021-11-18T02:27:04.161778",
          "exception": false,
          "start_time": "2021-11-18T02:27:00.604843",
          "status": "completed"
        },
        "tags": [],
        "colab": {
          "base_uri": "https://localhost:8080/"
        },
        "id": "cHJyzQXAXHIj",
        "outputId": "8fe6e6d1-2e73-4d78-d913-92370b16bd74"
      },
      "source": [
        "classifier = MultinomialNB()\n",
        "targets = df_train_1['sentiment'].values\n",
        "\n",
        "classifier.fit(counts, targets)"
      ],
      "id": "cHJyzQXAXHIj",
      "execution_count": 262,
      "outputs": [
        {
          "output_type": "execute_result",
          "data": {
            "text/plain": [
              "MultinomialNB()"
            ]
          },
          "metadata": {},
          "execution_count": 262
        }
      ]
    },
    {
      "cell_type": "code",
      "metadata": {
        "execution": {
          "iopub.execute_input": "2021-11-18T02:27:09.972893Z",
          "iopub.status.busy": "2021-11-18T02:27:09.971895Z",
          "iopub.status.idle": "2021-11-18T02:27:09.979000Z",
          "shell.execute_reply": "2021-11-18T02:27:09.979602Z",
          "shell.execute_reply.started": "2021-11-18T01:51:00.534839Z"
        },
        "papermill": {
          "duration": 2.906019,
          "end_time": "2021-11-18T02:27:09.979770",
          "exception": false,
          "start_time": "2021-11-18T02:27:07.073751",
          "status": "completed"
        },
        "tags": [],
        "colab": {
          "base_uri": "https://localhost:8080/"
        },
        "id": "KvmfU9R3XHIj",
        "outputId": "8295bd2a-4e85-42e3-e581-2314b4dd8b9a"
      },
      "source": [
        "#Example\n",
        "example = ['mother fucker']\n",
        "example_counts = vectorizer_non.transform(example)\n",
        "\n",
        "prediction = classifier.predict(example_counts)\n",
        "prediction"
      ],
      "id": "KvmfU9R3XHIj",
      "execution_count": 263,
      "outputs": [
        {
          "output_type": "execute_result",
          "data": {
            "text/plain": [
              "array([3])"
            ]
          },
          "metadata": {},
          "execution_count": 263
        }
      ]
    },
    {
      "cell_type": "code",
      "metadata": {
        "execution": {
          "iopub.execute_input": "2021-11-18T02:27:21.654990Z",
          "iopub.status.busy": "2021-11-18T02:27:21.654318Z",
          "iopub.status.idle": "2021-11-18T02:27:23.828737Z",
          "shell.execute_reply": "2021-11-18T02:27:23.828163Z",
          "shell.execute_reply.started": "2021-11-18T02:08:30.520763Z"
        },
        "papermill": {
          "duration": 5.120004,
          "end_time": "2021-11-18T02:27:23.828893",
          "exception": false,
          "start_time": "2021-11-18T02:27:18.708889",
          "status": "completed"
        },
        "tags": [],
        "colab": {
          "base_uri": "https://localhost:8080/",
          "height": 419
        },
        "id": "vhAsh7xkXHIk",
        "outputId": "6d607bb8-f1ad-4eb5-ccad-9dc3099b4603"
      },
      "source": [
        "df_train_2['vectorizer'] = df_train_2['comment_text'].map(lambda x: vectorizer_non.transform([x]))\n",
        "df_train_2['prediction'] = df_train_2['vectorizer'].map(lambda x: classifier.predict(x)[0])\n",
        "df_train_2[['comment_text','sentiment','prediction']]"
      ],
      "id": "vhAsh7xkXHIk",
      "execution_count": 264,
      "outputs": [
        {
          "output_type": "execute_result",
          "data": {
            "text/html": [
              "<div>\n",
              "<style scoped>\n",
              "    .dataframe tbody tr th:only-of-type {\n",
              "        vertical-align: middle;\n",
              "    }\n",
              "\n",
              "    .dataframe tbody tr th {\n",
              "        vertical-align: top;\n",
              "    }\n",
              "\n",
              "    .dataframe thead th {\n",
              "        text-align: right;\n",
              "    }\n",
              "</style>\n",
              "<table border=\"1\" class=\"dataframe\">\n",
              "  <thead>\n",
              "    <tr style=\"text-align: right;\">\n",
              "      <th></th>\n",
              "      <th>comment_text</th>\n",
              "      <th>sentiment</th>\n",
              "      <th>prediction</th>\n",
              "    </tr>\n",
              "  </thead>\n",
              "  <tbody>\n",
              "    <tr>\n",
              "      <th>0</th>\n",
              "      <td>intimidation would fucking piggy face people p...</td>\n",
              "      <td>4</td>\n",
              "      <td>2</td>\n",
              "    </tr>\n",
              "    <tr>\n",
              "      <th>1</th>\n",
              "      <td>from someone totally wronged bullshit managed ...</td>\n",
              "      <td>1</td>\n",
              "      <td>1</td>\n",
              "    </tr>\n",
              "    <tr>\n",
              "      <th>2</th>\n",
              "      <td>joking welcomed athenian politely albanian wik...</td>\n",
              "      <td>1</td>\n",
              "      <td>2</td>\n",
              "    </tr>\n",
              "    <tr>\n",
              "      <th>3</th>\n",
              "      <td>idiots always demand explain talk pages always...</td>\n",
              "      <td>2</td>\n",
              "      <td>1</td>\n",
              "    </tr>\n",
              "    <tr>\n",
              "      <th>4</th>\n",
              "      <td>jehovah witnesses bunch cultish freaks need ah...</td>\n",
              "      <td>1</td>\n",
              "      <td>2</td>\n",
              "    </tr>\n",
              "    <tr>\n",
              "      <th>...</th>\n",
              "      <td>...</td>\n",
              "      <td>...</td>\n",
              "      <td>...</td>\n",
              "    </tr>\n",
              "    <tr>\n",
              "      <th>3889</th>\n",
              "      <td>previous conversation fucking shit eating libe...</td>\n",
              "      <td>3</td>\n",
              "      <td>2</td>\n",
              "    </tr>\n",
              "    <tr>\n",
              "      <th>3890</th>\n",
              "      <td>mischievious pubic hair</td>\n",
              "      <td>2</td>\n",
              "      <td>2</td>\n",
              "    </tr>\n",
              "    <tr>\n",
              "      <th>3891</th>\n",
              "      <td>your absurd edits your absurd edits great whit...</td>\n",
              "      <td>2</td>\n",
              "      <td>1</td>\n",
              "    </tr>\n",
              "    <tr>\n",
              "      <th>3892</th>\n",
              "      <td>listen ever delete edits ever annoyed 2k15 ros...</td>\n",
              "      <td>2</td>\n",
              "      <td>2</td>\n",
              "    </tr>\n",
              "    <tr>\n",
              "      <th>3893</th>\n",
              "      <td>going keep posting stuff deleted fucking site ...</td>\n",
              "      <td>2</td>\n",
              "      <td>2</td>\n",
              "    </tr>\n",
              "  </tbody>\n",
              "</table>\n",
              "<p>3894 rows × 3 columns</p>\n",
              "</div>"
            ],
            "text/plain": [
              "                                           comment_text  sentiment  prediction\n",
              "0     intimidation would fucking piggy face people p...          4           2\n",
              "1     from someone totally wronged bullshit managed ...          1           1\n",
              "2     joking welcomed athenian politely albanian wik...          1           2\n",
              "3     idiots always demand explain talk pages always...          2           1\n",
              "4     jehovah witnesses bunch cultish freaks need ah...          1           2\n",
              "...                                                 ...        ...         ...\n",
              "3889  previous conversation fucking shit eating libe...          3           2\n",
              "3890                           mischievious pubic hair           2           2\n",
              "3891  your absurd edits your absurd edits great whit...          2           1\n",
              "3892  listen ever delete edits ever annoyed 2k15 ros...          2           2\n",
              "3893  going keep posting stuff deleted fucking site ...          2           2\n",
              "\n",
              "[3894 rows x 3 columns]"
            ]
          },
          "metadata": {},
          "execution_count": 264
        }
      ]
    },
    {
      "cell_type": "code",
      "metadata": {
        "execution": {
          "iopub.execute_input": "2021-11-18T02:27:29.614497Z",
          "iopub.status.busy": "2021-11-18T02:27:29.613418Z",
          "iopub.status.idle": "2021-11-18T02:27:29.622144Z",
          "shell.execute_reply": "2021-11-18T02:27:29.623037Z",
          "shell.execute_reply.started": "2021-11-18T01:51:10.193305Z"
        },
        "papermill": {
          "duration": 2.925245,
          "end_time": "2021-11-18T02:27:29.623281",
          "exception": false,
          "start_time": "2021-11-18T02:27:26.698036",
          "status": "completed"
        },
        "tags": [],
        "colab": {
          "base_uri": "https://localhost:8080/"
        },
        "id": "yu1rczfEXHIk",
        "outputId": "813dfc3f-eb9f-4154-8ec6-acb4edff87dc"
      },
      "source": [
        "y_test = df_train_2[['sentiment']]\n",
        "y_pred = df_train_2[['prediction']]\n",
        "bayes.append(metrics.accuracy_score(y_test, y_pred))\n",
        "# Model Accuracy, how often is the classifier correct?\n",
        "print(\"Accuracy:\",metrics.accuracy_score(y_test, y_pred))"
      ],
      "id": "yu1rczfEXHIk",
      "execution_count": 265,
      "outputs": [
        {
          "output_type": "stream",
          "name": "stdout",
          "text": [
            "Accuracy: 0.5916795069337443\n"
          ]
        }
      ]
    },
    {
      "cell_type": "markdown",
      "metadata": {
        "id": "f06A4CF7XHIk"
      },
      "source": [
        "###KNN"
      ],
      "id": "f06A4CF7XHIk"
    },
    {
      "cell_type": "code",
      "metadata": {
        "id": "3KwJllu1kWSI"
      },
      "source": [
        "vectorizer_non = CountVectorizer()\n",
        "counts = vectorizer_non.fit_transform(df_train_1['comment_text'].values)"
      ],
      "id": "3KwJllu1kWSI",
      "execution_count": 266,
      "outputs": []
    },
    {
      "cell_type": "code",
      "metadata": {
        "id": "5t9m0XgQXHIk"
      },
      "source": [
        "from sklearn.neighbors import KNeighborsClassifier"
      ],
      "id": "5t9m0XgQXHIk",
      "execution_count": 267,
      "outputs": []
    },
    {
      "cell_type": "code",
      "metadata": {
        "colab": {
          "base_uri": "https://localhost:8080/"
        },
        "id": "sd-qCe_AXHIl",
        "outputId": "74a514c7-4b64-44e6-ccd3-122d9013a520"
      },
      "source": [
        "#Example\n",
        "example = ['mother fucker']\n",
        "example_counts = vectorizer_non.transform(example)\n",
        "\n",
        "prediction = classifier.predict(example_counts)\n",
        "prediction"
      ],
      "id": "sd-qCe_AXHIl",
      "execution_count": 268,
      "outputs": [
        {
          "output_type": "execute_result",
          "data": {
            "text/plain": [
              "array([3])"
            ]
          },
          "metadata": {},
          "execution_count": 268
        }
      ]
    },
    {
      "cell_type": "code",
      "metadata": {
        "colab": {
          "base_uri": "https://localhost:8080/",
          "height": 419
        },
        "id": "NHV38k3yXHIl",
        "outputId": "4d9a5421-ad95-4387-90ef-0d78fc722a85"
      },
      "source": [
        "df_train_2['vectorizer'] = df_train_2['comment_text'].map(lambda x: vectorizer_non.transform([x]))\n",
        "df_train_2['prediction'] = df_train_2['vectorizer'].map(lambda x: classifier.predict(x)[0])\n",
        "df_train_2[['comment_text','sentiment','prediction']]"
      ],
      "id": "NHV38k3yXHIl",
      "execution_count": 269,
      "outputs": [
        {
          "output_type": "execute_result",
          "data": {
            "text/html": [
              "<div>\n",
              "<style scoped>\n",
              "    .dataframe tbody tr th:only-of-type {\n",
              "        vertical-align: middle;\n",
              "    }\n",
              "\n",
              "    .dataframe tbody tr th {\n",
              "        vertical-align: top;\n",
              "    }\n",
              "\n",
              "    .dataframe thead th {\n",
              "        text-align: right;\n",
              "    }\n",
              "</style>\n",
              "<table border=\"1\" class=\"dataframe\">\n",
              "  <thead>\n",
              "    <tr style=\"text-align: right;\">\n",
              "      <th></th>\n",
              "      <th>comment_text</th>\n",
              "      <th>sentiment</th>\n",
              "      <th>prediction</th>\n",
              "    </tr>\n",
              "  </thead>\n",
              "  <tbody>\n",
              "    <tr>\n",
              "      <th>0</th>\n",
              "      <td>intimidation would fucking piggy face people p...</td>\n",
              "      <td>4</td>\n",
              "      <td>2</td>\n",
              "    </tr>\n",
              "    <tr>\n",
              "      <th>1</th>\n",
              "      <td>from someone totally wronged bullshit managed ...</td>\n",
              "      <td>1</td>\n",
              "      <td>1</td>\n",
              "    </tr>\n",
              "    <tr>\n",
              "      <th>2</th>\n",
              "      <td>joking welcomed athenian politely albanian wik...</td>\n",
              "      <td>1</td>\n",
              "      <td>2</td>\n",
              "    </tr>\n",
              "    <tr>\n",
              "      <th>3</th>\n",
              "      <td>idiots always demand explain talk pages always...</td>\n",
              "      <td>2</td>\n",
              "      <td>1</td>\n",
              "    </tr>\n",
              "    <tr>\n",
              "      <th>4</th>\n",
              "      <td>jehovah witnesses bunch cultish freaks need ah...</td>\n",
              "      <td>1</td>\n",
              "      <td>2</td>\n",
              "    </tr>\n",
              "    <tr>\n",
              "      <th>...</th>\n",
              "      <td>...</td>\n",
              "      <td>...</td>\n",
              "      <td>...</td>\n",
              "    </tr>\n",
              "    <tr>\n",
              "      <th>3889</th>\n",
              "      <td>previous conversation fucking shit eating libe...</td>\n",
              "      <td>3</td>\n",
              "      <td>2</td>\n",
              "    </tr>\n",
              "    <tr>\n",
              "      <th>3890</th>\n",
              "      <td>mischievious pubic hair</td>\n",
              "      <td>2</td>\n",
              "      <td>2</td>\n",
              "    </tr>\n",
              "    <tr>\n",
              "      <th>3891</th>\n",
              "      <td>your absurd edits your absurd edits great whit...</td>\n",
              "      <td>2</td>\n",
              "      <td>1</td>\n",
              "    </tr>\n",
              "    <tr>\n",
              "      <th>3892</th>\n",
              "      <td>listen ever delete edits ever annoyed 2k15 ros...</td>\n",
              "      <td>2</td>\n",
              "      <td>2</td>\n",
              "    </tr>\n",
              "    <tr>\n",
              "      <th>3893</th>\n",
              "      <td>going keep posting stuff deleted fucking site ...</td>\n",
              "      <td>2</td>\n",
              "      <td>2</td>\n",
              "    </tr>\n",
              "  </tbody>\n",
              "</table>\n",
              "<p>3894 rows × 3 columns</p>\n",
              "</div>"
            ],
            "text/plain": [
              "                                           comment_text  sentiment  prediction\n",
              "0     intimidation would fucking piggy face people p...          4           2\n",
              "1     from someone totally wronged bullshit managed ...          1           1\n",
              "2     joking welcomed athenian politely albanian wik...          1           2\n",
              "3     idiots always demand explain talk pages always...          2           1\n",
              "4     jehovah witnesses bunch cultish freaks need ah...          1           2\n",
              "...                                                 ...        ...         ...\n",
              "3889  previous conversation fucking shit eating libe...          3           2\n",
              "3890                           mischievious pubic hair           2           2\n",
              "3891  your absurd edits your absurd edits great whit...          2           1\n",
              "3892  listen ever delete edits ever annoyed 2k15 ros...          2           2\n",
              "3893  going keep posting stuff deleted fucking site ...          2           2\n",
              "\n",
              "[3894 rows x 3 columns]"
            ]
          },
          "metadata": {},
          "execution_count": 269
        }
      ]
    },
    {
      "cell_type": "code",
      "metadata": {
        "colab": {
          "base_uri": "https://localhost:8080/"
        },
        "id": "yTSjTjODXHIl",
        "outputId": "9d89f008-6182-4939-d981-3702cd3bbb08"
      },
      "source": [
        "y_test = df_train_2[['sentiment']]\n",
        "y_pred = df_train_2[['prediction']]\n",
        "knn.append(metrics.accuracy_score(y_test, y_pred))\n",
        "# Model Accuracy, how often is the classifier correct?\n",
        "print(\"Accuracy:\",metrics.accuracy_score(y_test, y_pred))"
      ],
      "id": "yTSjTjODXHIl",
      "execution_count": 270,
      "outputs": [
        {
          "output_type": "stream",
          "name": "stdout",
          "text": [
            "Accuracy: 0.5916795069337443\n"
          ]
        }
      ]
    },
    {
      "cell_type": "markdown",
      "metadata": {
        "id": "7fw18hqyXHIl"
      },
      "source": [
        "###Decision Tree"
      ],
      "id": "7fw18hqyXHIl"
    },
    {
      "cell_type": "code",
      "metadata": {
        "id": "Ia1Bm5FxXHIl"
      },
      "source": [
        "from sklearn import tree"
      ],
      "id": "Ia1Bm5FxXHIl",
      "execution_count": 271,
      "outputs": []
    },
    {
      "cell_type": "code",
      "metadata": {
        "colab": {
          "base_uri": "https://localhost:8080/"
        },
        "id": "srK-FeHmXHIm",
        "outputId": "4eebfd33-ca5d-4bb9-df0d-1ff6227943c5"
      },
      "source": [
        "classifier = tree.DecisionTreeClassifier()\n",
        "targets = df_train_1['sentiment'].values\n",
        "\n",
        "classifier.fit(counts, targets)"
      ],
      "id": "srK-FeHmXHIm",
      "execution_count": 272,
      "outputs": [
        {
          "output_type": "execute_result",
          "data": {
            "text/plain": [
              "DecisionTreeClassifier()"
            ]
          },
          "metadata": {},
          "execution_count": 272
        }
      ]
    },
    {
      "cell_type": "code",
      "metadata": {
        "colab": {
          "base_uri": "https://localhost:8080/"
        },
        "id": "DOYHRi_1XHIm",
        "outputId": "1380225f-8f35-4532-858e-bc7a332539c9"
      },
      "source": [
        "#Example\n",
        "example = ['mother fucker']\n",
        "example_counts = vectorizer_non.transform(example)\n",
        "\n",
        "prediction = classifier.predict(example_counts)\n",
        "prediction"
      ],
      "id": "DOYHRi_1XHIm",
      "execution_count": 273,
      "outputs": [
        {
          "output_type": "execute_result",
          "data": {
            "text/plain": [
              "array([2])"
            ]
          },
          "metadata": {},
          "execution_count": 273
        }
      ]
    },
    {
      "cell_type": "code",
      "metadata": {
        "colab": {
          "base_uri": "https://localhost:8080/",
          "height": 419
        },
        "id": "UNNFrHvLXHIm",
        "outputId": "29f28e36-3ddc-4ef0-884b-9683185236b9"
      },
      "source": [
        "df_train_2['vectorizer'] = df_train_2['comment_text'].map(lambda x: vectorizer_non.transform([x]))\n",
        "df_train_2['prediction'] = df_train_2['vectorizer'].map(lambda x: classifier.predict(x)[0])\n",
        "df_train_2[['comment_text','sentiment','prediction']]"
      ],
      "id": "UNNFrHvLXHIm",
      "execution_count": 274,
      "outputs": [
        {
          "output_type": "execute_result",
          "data": {
            "text/html": [
              "<div>\n",
              "<style scoped>\n",
              "    .dataframe tbody tr th:only-of-type {\n",
              "        vertical-align: middle;\n",
              "    }\n",
              "\n",
              "    .dataframe tbody tr th {\n",
              "        vertical-align: top;\n",
              "    }\n",
              "\n",
              "    .dataframe thead th {\n",
              "        text-align: right;\n",
              "    }\n",
              "</style>\n",
              "<table border=\"1\" class=\"dataframe\">\n",
              "  <thead>\n",
              "    <tr style=\"text-align: right;\">\n",
              "      <th></th>\n",
              "      <th>comment_text</th>\n",
              "      <th>sentiment</th>\n",
              "      <th>prediction</th>\n",
              "    </tr>\n",
              "  </thead>\n",
              "  <tbody>\n",
              "    <tr>\n",
              "      <th>0</th>\n",
              "      <td>intimidation would fucking piggy face people p...</td>\n",
              "      <td>4</td>\n",
              "      <td>3</td>\n",
              "    </tr>\n",
              "    <tr>\n",
              "      <th>1</th>\n",
              "      <td>from someone totally wronged bullshit managed ...</td>\n",
              "      <td>1</td>\n",
              "      <td>1</td>\n",
              "    </tr>\n",
              "    <tr>\n",
              "      <th>2</th>\n",
              "      <td>joking welcomed athenian politely albanian wik...</td>\n",
              "      <td>1</td>\n",
              "      <td>1</td>\n",
              "    </tr>\n",
              "    <tr>\n",
              "      <th>3</th>\n",
              "      <td>idiots always demand explain talk pages always...</td>\n",
              "      <td>2</td>\n",
              "      <td>1</td>\n",
              "    </tr>\n",
              "    <tr>\n",
              "      <th>4</th>\n",
              "      <td>jehovah witnesses bunch cultish freaks need ah...</td>\n",
              "      <td>1</td>\n",
              "      <td>1</td>\n",
              "    </tr>\n",
              "    <tr>\n",
              "      <th>...</th>\n",
              "      <td>...</td>\n",
              "      <td>...</td>\n",
              "      <td>...</td>\n",
              "    </tr>\n",
              "    <tr>\n",
              "      <th>3889</th>\n",
              "      <td>previous conversation fucking shit eating libe...</td>\n",
              "      <td>3</td>\n",
              "      <td>2</td>\n",
              "    </tr>\n",
              "    <tr>\n",
              "      <th>3890</th>\n",
              "      <td>mischievious pubic hair</td>\n",
              "      <td>2</td>\n",
              "      <td>1</td>\n",
              "    </tr>\n",
              "    <tr>\n",
              "      <th>3891</th>\n",
              "      <td>your absurd edits your absurd edits great whit...</td>\n",
              "      <td>2</td>\n",
              "      <td>2</td>\n",
              "    </tr>\n",
              "    <tr>\n",
              "      <th>3892</th>\n",
              "      <td>listen ever delete edits ever annoyed 2k15 ros...</td>\n",
              "      <td>2</td>\n",
              "      <td>1</td>\n",
              "    </tr>\n",
              "    <tr>\n",
              "      <th>3893</th>\n",
              "      <td>going keep posting stuff deleted fucking site ...</td>\n",
              "      <td>2</td>\n",
              "      <td>2</td>\n",
              "    </tr>\n",
              "  </tbody>\n",
              "</table>\n",
              "<p>3894 rows × 3 columns</p>\n",
              "</div>"
            ],
            "text/plain": [
              "                                           comment_text  sentiment  prediction\n",
              "0     intimidation would fucking piggy face people p...          4           3\n",
              "1     from someone totally wronged bullshit managed ...          1           1\n",
              "2     joking welcomed athenian politely albanian wik...          1           1\n",
              "3     idiots always demand explain talk pages always...          2           1\n",
              "4     jehovah witnesses bunch cultish freaks need ah...          1           1\n",
              "...                                                 ...        ...         ...\n",
              "3889  previous conversation fucking shit eating libe...          3           2\n",
              "3890                           mischievious pubic hair           2           1\n",
              "3891  your absurd edits your absurd edits great whit...          2           2\n",
              "3892  listen ever delete edits ever annoyed 2k15 ros...          2           1\n",
              "3893  going keep posting stuff deleted fucking site ...          2           2\n",
              "\n",
              "[3894 rows x 3 columns]"
            ]
          },
          "metadata": {},
          "execution_count": 274
        }
      ]
    },
    {
      "cell_type": "code",
      "metadata": {
        "colab": {
          "base_uri": "https://localhost:8080/"
        },
        "id": "JYx1SD-SXHIm",
        "outputId": "bd746cf6-5579-47bf-b51d-4a7d712f78e8"
      },
      "source": [
        "y_test = df_train_2[['sentiment']]\n",
        "y_pred = df_train_2[['prediction']]\n",
        "dt.append(metrics.accuracy_score(y_test, y_pred))\n",
        "# Model Accuracy, how often is the classifier correct?\n",
        "print(\"Accuracy:\",metrics.accuracy_score(y_test, y_pred))"
      ],
      "id": "JYx1SD-SXHIm",
      "execution_count": 275,
      "outputs": [
        {
          "output_type": "stream",
          "name": "stdout",
          "text": [
            "Accuracy: 0.5490498202362609\n"
          ]
        }
      ]
    },
    {
      "cell_type": "markdown",
      "metadata": {
        "id": "lXhEcE-_XHIm"
      },
      "source": [
        "###SVM"
      ],
      "id": "lXhEcE-_XHIm"
    },
    {
      "cell_type": "code",
      "metadata": {
        "id": "WddhjfHhXHIm"
      },
      "source": [
        "from sklearn import svm"
      ],
      "id": "WddhjfHhXHIm",
      "execution_count": 276,
      "outputs": []
    },
    {
      "cell_type": "code",
      "metadata": {
        "colab": {
          "base_uri": "https://localhost:8080/"
        },
        "id": "nvJrXyJZXHIn",
        "outputId": "fcee0ea6-8c92-481c-9a1b-5ce3a01aedda"
      },
      "source": [
        "classifier = svm.SVC()\n",
        "targets = df_train_1['sentiment'].values\n",
        "\n",
        "classifier.fit(counts, targets)"
      ],
      "id": "nvJrXyJZXHIn",
      "execution_count": 351,
      "outputs": [
        {
          "output_type": "execute_result",
          "data": {
            "text/plain": [
              "SVC()"
            ]
          },
          "metadata": {},
          "execution_count": 351
        }
      ]
    },
    {
      "cell_type": "code",
      "metadata": {
        "colab": {
          "base_uri": "https://localhost:8080/"
        },
        "id": "hyPnnqiSXHIn",
        "outputId": "abb94000-299d-42cf-ff34-21d43df098d8"
      },
      "source": [
        "#Example\n",
        "example = ['mother fucker']\n",
        "example_counts = vectorizer_non.transform(example)\n",
        "\n",
        "prediction = classifier.predict(example_counts)\n",
        "prediction"
      ],
      "id": "hyPnnqiSXHIn",
      "execution_count": 352,
      "outputs": [
        {
          "output_type": "execute_result",
          "data": {
            "text/plain": [
              "array([1])"
            ]
          },
          "metadata": {},
          "execution_count": 352
        }
      ]
    },
    {
      "cell_type": "code",
      "metadata": {
        "colab": {
          "base_uri": "https://localhost:8080/",
          "height": 419
        },
        "id": "v87BIlnMXHIn",
        "outputId": "543a9fe0-cbdc-4c9d-8a76-203629c907ed"
      },
      "source": [
        "df_train_2['vectorizer'] = df_train_2['comment_text'].map(lambda x: vectorizer_non.transform([x]))\n",
        "df_train_2['prediction'] = df_train_2['vectorizer'].map(lambda x: classifier.predict(x)[0])\n",
        "df_train_2[['comment_text','sentiment','prediction']]"
      ],
      "id": "v87BIlnMXHIn",
      "execution_count": 353,
      "outputs": [
        {
          "output_type": "execute_result",
          "data": {
            "text/html": [
              "<div>\n",
              "<style scoped>\n",
              "    .dataframe tbody tr th:only-of-type {\n",
              "        vertical-align: middle;\n",
              "    }\n",
              "\n",
              "    .dataframe tbody tr th {\n",
              "        vertical-align: top;\n",
              "    }\n",
              "\n",
              "    .dataframe thead th {\n",
              "        text-align: right;\n",
              "    }\n",
              "</style>\n",
              "<table border=\"1\" class=\"dataframe\">\n",
              "  <thead>\n",
              "    <tr style=\"text-align: right;\">\n",
              "      <th></th>\n",
              "      <th>comment_text</th>\n",
              "      <th>sentiment</th>\n",
              "      <th>prediction</th>\n",
              "    </tr>\n",
              "  </thead>\n",
              "  <tbody>\n",
              "    <tr>\n",
              "      <th>0</th>\n",
              "      <td>intimidation would fucking piggy face people p...</td>\n",
              "      <td>4</td>\n",
              "      <td>2</td>\n",
              "    </tr>\n",
              "    <tr>\n",
              "      <th>1</th>\n",
              "      <td>from someone totally wronged bullshit managed ...</td>\n",
              "      <td>1</td>\n",
              "      <td>1</td>\n",
              "    </tr>\n",
              "    <tr>\n",
              "      <th>2</th>\n",
              "      <td>joking welcomed athenian politely albanian wik...</td>\n",
              "      <td>1</td>\n",
              "      <td>1</td>\n",
              "    </tr>\n",
              "    <tr>\n",
              "      <th>3</th>\n",
              "      <td>idiots always demand explain talk pages always...</td>\n",
              "      <td>2</td>\n",
              "      <td>1</td>\n",
              "    </tr>\n",
              "    <tr>\n",
              "      <th>4</th>\n",
              "      <td>jehovah witnesses bunch cultish freaks need ah...</td>\n",
              "      <td>1</td>\n",
              "      <td>1</td>\n",
              "    </tr>\n",
              "    <tr>\n",
              "      <th>...</th>\n",
              "      <td>...</td>\n",
              "      <td>...</td>\n",
              "      <td>...</td>\n",
              "    </tr>\n",
              "    <tr>\n",
              "      <th>3889</th>\n",
              "      <td>previous conversation fucking shit eating libe...</td>\n",
              "      <td>3</td>\n",
              "      <td>2</td>\n",
              "    </tr>\n",
              "    <tr>\n",
              "      <th>3890</th>\n",
              "      <td>mischievious pubic hair</td>\n",
              "      <td>2</td>\n",
              "      <td>1</td>\n",
              "    </tr>\n",
              "    <tr>\n",
              "      <th>3891</th>\n",
              "      <td>your absurd edits your absurd edits great whit...</td>\n",
              "      <td>2</td>\n",
              "      <td>1</td>\n",
              "    </tr>\n",
              "    <tr>\n",
              "      <th>3892</th>\n",
              "      <td>listen ever delete edits ever annoyed 2k15 ros...</td>\n",
              "      <td>2</td>\n",
              "      <td>1</td>\n",
              "    </tr>\n",
              "    <tr>\n",
              "      <th>3893</th>\n",
              "      <td>going keep posting stuff deleted fucking site ...</td>\n",
              "      <td>2</td>\n",
              "      <td>2</td>\n",
              "    </tr>\n",
              "  </tbody>\n",
              "</table>\n",
              "<p>3894 rows × 3 columns</p>\n",
              "</div>"
            ],
            "text/plain": [
              "                                           comment_text  sentiment  prediction\n",
              "0     intimidation would fucking piggy face people p...          4           2\n",
              "1     from someone totally wronged bullshit managed ...          1           1\n",
              "2     joking welcomed athenian politely albanian wik...          1           1\n",
              "3     idiots always demand explain talk pages always...          2           1\n",
              "4     jehovah witnesses bunch cultish freaks need ah...          1           1\n",
              "...                                                 ...        ...         ...\n",
              "3889  previous conversation fucking shit eating libe...          3           2\n",
              "3890                           mischievious pubic hair           2           1\n",
              "3891  your absurd edits your absurd edits great whit...          2           1\n",
              "3892  listen ever delete edits ever annoyed 2k15 ros...          2           1\n",
              "3893  going keep posting stuff deleted fucking site ...          2           2\n",
              "\n",
              "[3894 rows x 3 columns]"
            ]
          },
          "metadata": {},
          "execution_count": 353
        }
      ]
    },
    {
      "cell_type": "code",
      "metadata": {
        "colab": {
          "base_uri": "https://localhost:8080/"
        },
        "id": "Fy05Y1c3XHIn",
        "outputId": "3941fada-4598-4602-96ae-44671d8333c6"
      },
      "source": [
        "y_test = df_train_2[['sentiment']]\n",
        "y_pred = df_train_2[['prediction']]\n",
        "svma.append(metrics.accuracy_score(y_test, y_pred))\n",
        "# Model Accuracy, how often is the classifier correct?\n",
        "print(\"Accuracy:\",metrics.accuracy_score(y_test, y_pred))"
      ],
      "id": "Fy05Y1c3XHIn",
      "execution_count": 354,
      "outputs": [
        {
          "output_type": "stream",
          "name": "stdout",
          "text": [
            "Accuracy: 0.5441705187467899\n"
          ]
        }
      ]
    },
    {
      "cell_type": "markdown",
      "metadata": {
        "id": "GpPYtzemXHIn"
      },
      "source": [
        "###Stochastic Gradient Descent\n"
      ],
      "id": "GpPYtzemXHIn"
    },
    {
      "cell_type": "code",
      "metadata": {
        "id": "j3X9bNVGXHIn"
      },
      "source": [
        "from sklearn.linear_model import SGDClassifier"
      ],
      "id": "j3X9bNVGXHIn",
      "execution_count": 281,
      "outputs": []
    },
    {
      "cell_type": "code",
      "metadata": {
        "colab": {
          "base_uri": "https://localhost:8080/"
        },
        "id": "26v8z4ozXHIo",
        "outputId": "a9bb072e-3ebe-4b14-c4fc-d763f4c293b7"
      },
      "source": [
        "classifier = SGDClassifier(loss=\"hinge\", penalty=\"l2\", max_iter=5)\n",
        "targets = df_train_1['sentiment'].values\n",
        "\n",
        "classifier.fit(counts, targets)"
      ],
      "id": "26v8z4ozXHIo",
      "execution_count": 282,
      "outputs": [
        {
          "output_type": "execute_result",
          "data": {
            "text/plain": [
              "SGDClassifier(max_iter=5)"
            ]
          },
          "metadata": {},
          "execution_count": 282
        }
      ]
    },
    {
      "cell_type": "code",
      "metadata": {
        "colab": {
          "base_uri": "https://localhost:8080/"
        },
        "id": "HJPrwd8CXHIo",
        "outputId": "73abf1b8-b0fb-472d-a0fb-ef854b493682"
      },
      "source": [
        "#Example\n",
        "example = ['mother fucker']\n",
        "example_counts = vectorizer_non.transform(example)\n",
        "\n",
        "prediction = classifier.predict(example_counts)\n",
        "prediction"
      ],
      "id": "HJPrwd8CXHIo",
      "execution_count": 283,
      "outputs": [
        {
          "output_type": "execute_result",
          "data": {
            "text/plain": [
              "array([2])"
            ]
          },
          "metadata": {},
          "execution_count": 283
        }
      ]
    },
    {
      "cell_type": "code",
      "metadata": {
        "colab": {
          "base_uri": "https://localhost:8080/",
          "height": 419
        },
        "id": "w5R0iy0bXHIo",
        "outputId": "d0379673-1deb-4c13-b0aa-beb39eb004ef"
      },
      "source": [
        "df_train_2['vectorizer'] = df_train_2['comment_text'].map(lambda x: vectorizer_non.transform([x]))\n",
        "df_train_2['prediction'] = df_train_2['vectorizer'].map(lambda x: classifier.predict(x)[0])\n",
        "df_train_2[['comment_text','sentiment','prediction']]"
      ],
      "id": "w5R0iy0bXHIo",
      "execution_count": 284,
      "outputs": [
        {
          "output_type": "execute_result",
          "data": {
            "text/html": [
              "<div>\n",
              "<style scoped>\n",
              "    .dataframe tbody tr th:only-of-type {\n",
              "        vertical-align: middle;\n",
              "    }\n",
              "\n",
              "    .dataframe tbody tr th {\n",
              "        vertical-align: top;\n",
              "    }\n",
              "\n",
              "    .dataframe thead th {\n",
              "        text-align: right;\n",
              "    }\n",
              "</style>\n",
              "<table border=\"1\" class=\"dataframe\">\n",
              "  <thead>\n",
              "    <tr style=\"text-align: right;\">\n",
              "      <th></th>\n",
              "      <th>comment_text</th>\n",
              "      <th>sentiment</th>\n",
              "      <th>prediction</th>\n",
              "    </tr>\n",
              "  </thead>\n",
              "  <tbody>\n",
              "    <tr>\n",
              "      <th>0</th>\n",
              "      <td>intimidation would fucking piggy face people p...</td>\n",
              "      <td>4</td>\n",
              "      <td>3</td>\n",
              "    </tr>\n",
              "    <tr>\n",
              "      <th>1</th>\n",
              "      <td>from someone totally wronged bullshit managed ...</td>\n",
              "      <td>1</td>\n",
              "      <td>1</td>\n",
              "    </tr>\n",
              "    <tr>\n",
              "      <th>2</th>\n",
              "      <td>joking welcomed athenian politely albanian wik...</td>\n",
              "      <td>1</td>\n",
              "      <td>2</td>\n",
              "    </tr>\n",
              "    <tr>\n",
              "      <th>3</th>\n",
              "      <td>idiots always demand explain talk pages always...</td>\n",
              "      <td>2</td>\n",
              "      <td>1</td>\n",
              "    </tr>\n",
              "    <tr>\n",
              "      <th>4</th>\n",
              "      <td>jehovah witnesses bunch cultish freaks need ah...</td>\n",
              "      <td>1</td>\n",
              "      <td>1</td>\n",
              "    </tr>\n",
              "    <tr>\n",
              "      <th>...</th>\n",
              "      <td>...</td>\n",
              "      <td>...</td>\n",
              "      <td>...</td>\n",
              "    </tr>\n",
              "    <tr>\n",
              "      <th>3889</th>\n",
              "      <td>previous conversation fucking shit eating libe...</td>\n",
              "      <td>3</td>\n",
              "      <td>2</td>\n",
              "    </tr>\n",
              "    <tr>\n",
              "      <th>3890</th>\n",
              "      <td>mischievious pubic hair</td>\n",
              "      <td>2</td>\n",
              "      <td>1</td>\n",
              "    </tr>\n",
              "    <tr>\n",
              "      <th>3891</th>\n",
              "      <td>your absurd edits your absurd edits great whit...</td>\n",
              "      <td>2</td>\n",
              "      <td>1</td>\n",
              "    </tr>\n",
              "    <tr>\n",
              "      <th>3892</th>\n",
              "      <td>listen ever delete edits ever annoyed 2k15 ros...</td>\n",
              "      <td>2</td>\n",
              "      <td>2</td>\n",
              "    </tr>\n",
              "    <tr>\n",
              "      <th>3893</th>\n",
              "      <td>going keep posting stuff deleted fucking site ...</td>\n",
              "      <td>2</td>\n",
              "      <td>2</td>\n",
              "    </tr>\n",
              "  </tbody>\n",
              "</table>\n",
              "<p>3894 rows × 3 columns</p>\n",
              "</div>"
            ],
            "text/plain": [
              "                                           comment_text  sentiment  prediction\n",
              "0     intimidation would fucking piggy face people p...          4           3\n",
              "1     from someone totally wronged bullshit managed ...          1           1\n",
              "2     joking welcomed athenian politely albanian wik...          1           2\n",
              "3     idiots always demand explain talk pages always...          2           1\n",
              "4     jehovah witnesses bunch cultish freaks need ah...          1           1\n",
              "...                                                 ...        ...         ...\n",
              "3889  previous conversation fucking shit eating libe...          3           2\n",
              "3890                           mischievious pubic hair           2           1\n",
              "3891  your absurd edits your absurd edits great whit...          2           1\n",
              "3892  listen ever delete edits ever annoyed 2k15 ros...          2           2\n",
              "3893  going keep posting stuff deleted fucking site ...          2           2\n",
              "\n",
              "[3894 rows x 3 columns]"
            ]
          },
          "metadata": {},
          "execution_count": 284
        }
      ]
    },
    {
      "cell_type": "code",
      "metadata": {
        "colab": {
          "base_uri": "https://localhost:8080/"
        },
        "id": "-fGvCGK1XHIo",
        "outputId": "3d7e2d83-d08c-4de6-84d8-139d7b518e1d"
      },
      "source": [
        "y_test = df_train_2[['sentiment']]\n",
        "y_pred = df_train_2[['prediction']]\n",
        "stochastic.append(metrics.accuracy_score(y_test, y_pred))\n",
        "# Model Accuracy, how often is the classifier correct?\n",
        "print(\"Accuracy:\",metrics.accuracy_score(y_test, y_pred))"
      ],
      "id": "-fGvCGK1XHIo",
      "execution_count": 285,
      "outputs": [
        {
          "output_type": "stream",
          "name": "stdout",
          "text": [
            "Accuracy: 0.5359527478171546\n"
          ]
        }
      ]
    },
    {
      "cell_type": "markdown",
      "metadata": {
        "id": "g3Zx7iyYXHIo"
      },
      "source": [
        "###Neirest Neighbors"
      ],
      "id": "g3Zx7iyYXHIo"
    },
    {
      "cell_type": "code",
      "metadata": {
        "id": "1dV4vOgeXHIo"
      },
      "source": [
        "from sklearn.neighbors import NearestCentroid"
      ],
      "id": "1dV4vOgeXHIo",
      "execution_count": 286,
      "outputs": []
    },
    {
      "cell_type": "code",
      "metadata": {
        "colab": {
          "base_uri": "https://localhost:8080/"
        },
        "id": "VGFJuwufXHIo",
        "outputId": "52c854fe-bba6-4210-f59e-ad02d79e350a"
      },
      "source": [
        "classifier = NearestCentroid()\n",
        "targets = df_train_1['sentiment'].values\n",
        "\n",
        "classifier.fit(counts, targets)"
      ],
      "id": "VGFJuwufXHIo",
      "execution_count": 287,
      "outputs": [
        {
          "output_type": "execute_result",
          "data": {
            "text/plain": [
              "NearestCentroid()"
            ]
          },
          "metadata": {},
          "execution_count": 287
        }
      ]
    },
    {
      "cell_type": "code",
      "metadata": {
        "colab": {
          "base_uri": "https://localhost:8080/"
        },
        "id": "IJ7o7AKtXHIp",
        "outputId": "9b26b512-2eb4-4b35-d1dd-1c0c9c4e36c4"
      },
      "source": [
        "#Example\n",
        "example = ['mother fucker']\n",
        "example_counts = vectorizer_non.transform(example)\n",
        "\n",
        "prediction = classifier.predict(example_counts)\n",
        "prediction"
      ],
      "id": "IJ7o7AKtXHIp",
      "execution_count": 288,
      "outputs": [
        {
          "output_type": "execute_result",
          "data": {
            "text/plain": [
              "array([1])"
            ]
          },
          "metadata": {},
          "execution_count": 288
        }
      ]
    },
    {
      "cell_type": "code",
      "metadata": {
        "colab": {
          "base_uri": "https://localhost:8080/",
          "height": 419
        },
        "id": "i8DfgoJDXHIp",
        "outputId": "4af73240-0ddb-4da0-a0a8-3589da2773aa"
      },
      "source": [
        "df_train_2['vectorizer'] = df_train_2['comment_text'].map(lambda x: vectorizer_non.transform([x]))\n",
        "df_train_2['prediction'] = df_train_2['vectorizer'].map(lambda x: classifier.predict(x)[0])\n",
        "df_train_2[['comment_text','sentiment','prediction']]"
      ],
      "id": "i8DfgoJDXHIp",
      "execution_count": 289,
      "outputs": [
        {
          "output_type": "execute_result",
          "data": {
            "text/html": [
              "<div>\n",
              "<style scoped>\n",
              "    .dataframe tbody tr th:only-of-type {\n",
              "        vertical-align: middle;\n",
              "    }\n",
              "\n",
              "    .dataframe tbody tr th {\n",
              "        vertical-align: top;\n",
              "    }\n",
              "\n",
              "    .dataframe thead th {\n",
              "        text-align: right;\n",
              "    }\n",
              "</style>\n",
              "<table border=\"1\" class=\"dataframe\">\n",
              "  <thead>\n",
              "    <tr style=\"text-align: right;\">\n",
              "      <th></th>\n",
              "      <th>comment_text</th>\n",
              "      <th>sentiment</th>\n",
              "      <th>prediction</th>\n",
              "    </tr>\n",
              "  </thead>\n",
              "  <tbody>\n",
              "    <tr>\n",
              "      <th>0</th>\n",
              "      <td>intimidation would fucking piggy face people p...</td>\n",
              "      <td>4</td>\n",
              "      <td>3</td>\n",
              "    </tr>\n",
              "    <tr>\n",
              "      <th>1</th>\n",
              "      <td>from someone totally wronged bullshit managed ...</td>\n",
              "      <td>1</td>\n",
              "      <td>1</td>\n",
              "    </tr>\n",
              "    <tr>\n",
              "      <th>2</th>\n",
              "      <td>joking welcomed athenian politely albanian wik...</td>\n",
              "      <td>1</td>\n",
              "      <td>1</td>\n",
              "    </tr>\n",
              "    <tr>\n",
              "      <th>3</th>\n",
              "      <td>idiots always demand explain talk pages always...</td>\n",
              "      <td>2</td>\n",
              "      <td>1</td>\n",
              "    </tr>\n",
              "    <tr>\n",
              "      <th>4</th>\n",
              "      <td>jehovah witnesses bunch cultish freaks need ah...</td>\n",
              "      <td>1</td>\n",
              "      <td>1</td>\n",
              "    </tr>\n",
              "    <tr>\n",
              "      <th>...</th>\n",
              "      <td>...</td>\n",
              "      <td>...</td>\n",
              "      <td>...</td>\n",
              "    </tr>\n",
              "    <tr>\n",
              "      <th>3889</th>\n",
              "      <td>previous conversation fucking shit eating libe...</td>\n",
              "      <td>3</td>\n",
              "      <td>3</td>\n",
              "    </tr>\n",
              "    <tr>\n",
              "      <th>3890</th>\n",
              "      <td>mischievious pubic hair</td>\n",
              "      <td>2</td>\n",
              "      <td>1</td>\n",
              "    </tr>\n",
              "    <tr>\n",
              "      <th>3891</th>\n",
              "      <td>your absurd edits your absurd edits great whit...</td>\n",
              "      <td>2</td>\n",
              "      <td>1</td>\n",
              "    </tr>\n",
              "    <tr>\n",
              "      <th>3892</th>\n",
              "      <td>listen ever delete edits ever annoyed 2k15 ros...</td>\n",
              "      <td>2</td>\n",
              "      <td>2</td>\n",
              "    </tr>\n",
              "    <tr>\n",
              "      <th>3893</th>\n",
              "      <td>going keep posting stuff deleted fucking site ...</td>\n",
              "      <td>2</td>\n",
              "      <td>2</td>\n",
              "    </tr>\n",
              "  </tbody>\n",
              "</table>\n",
              "<p>3894 rows × 3 columns</p>\n",
              "</div>"
            ],
            "text/plain": [
              "                                           comment_text  sentiment  prediction\n",
              "0     intimidation would fucking piggy face people p...          4           3\n",
              "1     from someone totally wronged bullshit managed ...          1           1\n",
              "2     joking welcomed athenian politely albanian wik...          1           1\n",
              "3     idiots always demand explain talk pages always...          2           1\n",
              "4     jehovah witnesses bunch cultish freaks need ah...          1           1\n",
              "...                                                 ...        ...         ...\n",
              "3889  previous conversation fucking shit eating libe...          3           3\n",
              "3890                           mischievious pubic hair           2           1\n",
              "3891  your absurd edits your absurd edits great whit...          2           1\n",
              "3892  listen ever delete edits ever annoyed 2k15 ros...          2           2\n",
              "3893  going keep posting stuff deleted fucking site ...          2           2\n",
              "\n",
              "[3894 rows x 3 columns]"
            ]
          },
          "metadata": {},
          "execution_count": 289
        }
      ]
    },
    {
      "cell_type": "code",
      "metadata": {
        "colab": {
          "base_uri": "https://localhost:8080/"
        },
        "id": "f5oeIegqXHIp",
        "outputId": "3de8b512-70a7-47d8-a0e4-3c31821bf96e"
      },
      "source": [
        "y_test = df_train_2[['sentiment']]\n",
        "y_pred = df_train_2[['prediction']]\n",
        "neirest.append(metrics.accuracy_score(y_test, y_pred))\n",
        "# Model Accuracy, how often is the classifier correct?\n",
        "print(\"Accuracy:\",metrics.accuracy_score(y_test, y_pred))"
      ],
      "id": "f5oeIegqXHIp",
      "execution_count": 290,
      "outputs": [
        {
          "output_type": "stream",
          "name": "stdout",
          "text": [
            "Accuracy: 0.5659989727786338\n"
          ]
        }
      ]
    },
    {
      "cell_type": "markdown",
      "metadata": {
        "id": "3A_agjUZXHIp"
      },
      "source": [
        "###Linear SVC"
      ],
      "id": "3A_agjUZXHIp"
    },
    {
      "cell_type": "code",
      "metadata": {
        "id": "I_rwpKyeXHIp"
      },
      "source": [
        "from sklearn.svm import LinearSVC"
      ],
      "id": "I_rwpKyeXHIp",
      "execution_count": 291,
      "outputs": []
    },
    {
      "cell_type": "code",
      "metadata": {
        "colab": {
          "base_uri": "https://localhost:8080/"
        },
        "id": "ox8aQWa3XHIp",
        "outputId": "55617fd7-0458-403b-9b28-39cf318cb16a"
      },
      "source": [
        "classifier = LinearSVC(random_state=0)\n",
        "targets = df_train_1['sentiment'].values\n",
        "\n",
        "classifier.fit(counts, targets)"
      ],
      "id": "ox8aQWa3XHIp",
      "execution_count": 292,
      "outputs": [
        {
          "output_type": "execute_result",
          "data": {
            "text/plain": [
              "LinearSVC(random_state=0)"
            ]
          },
          "metadata": {},
          "execution_count": 292
        }
      ]
    },
    {
      "cell_type": "code",
      "metadata": {
        "colab": {
          "base_uri": "https://localhost:8080/"
        },
        "id": "akwGnAaoXHIq",
        "outputId": "cc20f3aa-b9e1-4d87-fad9-19a38fb4f85e"
      },
      "source": [
        "#Example\n",
        "example = ['mother fucker']\n",
        "example_counts = vectorizer_non.transform(example)\n",
        "\n",
        "prediction = classifier.predict(example_counts)\n",
        "prediction"
      ],
      "id": "akwGnAaoXHIq",
      "execution_count": 293,
      "outputs": [
        {
          "output_type": "execute_result",
          "data": {
            "text/plain": [
              "array([2])"
            ]
          },
          "metadata": {},
          "execution_count": 293
        }
      ]
    },
    {
      "cell_type": "code",
      "metadata": {
        "colab": {
          "base_uri": "https://localhost:8080/",
          "height": 419
        },
        "id": "EBU0K0MAXHIq",
        "outputId": "5f54cdc5-9212-4c20-df3a-905c7c670274"
      },
      "source": [
        "df_train_2['vectorizer'] = df_train_2['comment_text'].map(lambda x: vectorizer_non.transform([x]))\n",
        "df_train_2['prediction'] = df_train_2['vectorizer'].map(lambda x: classifier.predict(x)[0])\n",
        "df_train_2[['comment_text','sentiment','prediction']]"
      ],
      "id": "EBU0K0MAXHIq",
      "execution_count": 294,
      "outputs": [
        {
          "output_type": "execute_result",
          "data": {
            "text/html": [
              "<div>\n",
              "<style scoped>\n",
              "    .dataframe tbody tr th:only-of-type {\n",
              "        vertical-align: middle;\n",
              "    }\n",
              "\n",
              "    .dataframe tbody tr th {\n",
              "        vertical-align: top;\n",
              "    }\n",
              "\n",
              "    .dataframe thead th {\n",
              "        text-align: right;\n",
              "    }\n",
              "</style>\n",
              "<table border=\"1\" class=\"dataframe\">\n",
              "  <thead>\n",
              "    <tr style=\"text-align: right;\">\n",
              "      <th></th>\n",
              "      <th>comment_text</th>\n",
              "      <th>sentiment</th>\n",
              "      <th>prediction</th>\n",
              "    </tr>\n",
              "  </thead>\n",
              "  <tbody>\n",
              "    <tr>\n",
              "      <th>0</th>\n",
              "      <td>intimidation would fucking piggy face people p...</td>\n",
              "      <td>4</td>\n",
              "      <td>2</td>\n",
              "    </tr>\n",
              "    <tr>\n",
              "      <th>1</th>\n",
              "      <td>from someone totally wronged bullshit managed ...</td>\n",
              "      <td>1</td>\n",
              "      <td>1</td>\n",
              "    </tr>\n",
              "    <tr>\n",
              "      <th>2</th>\n",
              "      <td>joking welcomed athenian politely albanian wik...</td>\n",
              "      <td>1</td>\n",
              "      <td>1</td>\n",
              "    </tr>\n",
              "    <tr>\n",
              "      <th>3</th>\n",
              "      <td>idiots always demand explain talk pages always...</td>\n",
              "      <td>2</td>\n",
              "      <td>1</td>\n",
              "    </tr>\n",
              "    <tr>\n",
              "      <th>4</th>\n",
              "      <td>jehovah witnesses bunch cultish freaks need ah...</td>\n",
              "      <td>1</td>\n",
              "      <td>1</td>\n",
              "    </tr>\n",
              "    <tr>\n",
              "      <th>...</th>\n",
              "      <td>...</td>\n",
              "      <td>...</td>\n",
              "      <td>...</td>\n",
              "    </tr>\n",
              "    <tr>\n",
              "      <th>3889</th>\n",
              "      <td>previous conversation fucking shit eating libe...</td>\n",
              "      <td>3</td>\n",
              "      <td>3</td>\n",
              "    </tr>\n",
              "    <tr>\n",
              "      <th>3890</th>\n",
              "      <td>mischievious pubic hair</td>\n",
              "      <td>2</td>\n",
              "      <td>2</td>\n",
              "    </tr>\n",
              "    <tr>\n",
              "      <th>3891</th>\n",
              "      <td>your absurd edits your absurd edits great whit...</td>\n",
              "      <td>2</td>\n",
              "      <td>1</td>\n",
              "    </tr>\n",
              "    <tr>\n",
              "      <th>3892</th>\n",
              "      <td>listen ever delete edits ever annoyed 2k15 ros...</td>\n",
              "      <td>2</td>\n",
              "      <td>2</td>\n",
              "    </tr>\n",
              "    <tr>\n",
              "      <th>3893</th>\n",
              "      <td>going keep posting stuff deleted fucking site ...</td>\n",
              "      <td>2</td>\n",
              "      <td>3</td>\n",
              "    </tr>\n",
              "  </tbody>\n",
              "</table>\n",
              "<p>3894 rows × 3 columns</p>\n",
              "</div>"
            ],
            "text/plain": [
              "                                           comment_text  sentiment  prediction\n",
              "0     intimidation would fucking piggy face people p...          4           2\n",
              "1     from someone totally wronged bullshit managed ...          1           1\n",
              "2     joking welcomed athenian politely albanian wik...          1           1\n",
              "3     idiots always demand explain talk pages always...          2           1\n",
              "4     jehovah witnesses bunch cultish freaks need ah...          1           1\n",
              "...                                                 ...        ...         ...\n",
              "3889  previous conversation fucking shit eating libe...          3           3\n",
              "3890                           mischievious pubic hair           2           2\n",
              "3891  your absurd edits your absurd edits great whit...          2           1\n",
              "3892  listen ever delete edits ever annoyed 2k15 ros...          2           2\n",
              "3893  going keep posting stuff deleted fucking site ...          2           3\n",
              "\n",
              "[3894 rows x 3 columns]"
            ]
          },
          "metadata": {},
          "execution_count": 294
        }
      ]
    },
    {
      "cell_type": "code",
      "metadata": {
        "colab": {
          "base_uri": "https://localhost:8080/"
        },
        "id": "BfDHCU4pXHIq",
        "outputId": "79e331e3-6237-4a6c-96ea-4c2ed11eb55c"
      },
      "source": [
        "y_test = df_train_2[['sentiment']]\n",
        "y_pred = df_train_2[['prediction']]\n",
        "svc.append(metrics.accuracy_score(y_test, y_pred))\n",
        "# Model Accuracy, how often is the classifier correct?\n",
        "print(\"Accuracy:\",metrics.accuracy_score(y_test, y_pred))"
      ],
      "id": "BfDHCU4pXHIq",
      "execution_count": 295,
      "outputs": [
        {
          "output_type": "stream",
          "name": "stdout",
          "text": [
            "Accuracy: 0.5693374422187981\n"
          ]
        }
      ]
    },
    {
      "cell_type": "markdown",
      "metadata": {
        "id": "Vl4DA-V9XHIq"
      },
      "source": [
        "###Neural Network"
      ],
      "id": "Vl4DA-V9XHIq"
    },
    {
      "cell_type": "code",
      "metadata": {
        "id": "Fkl4ImbOXHIq"
      },
      "source": [
        "from sklearn.neural_network import MLPClassifier"
      ],
      "id": "Fkl4ImbOXHIq",
      "execution_count": 296,
      "outputs": []
    },
    {
      "cell_type": "code",
      "metadata": {
        "colab": {
          "base_uri": "https://localhost:8080/"
        },
        "id": "VGOEpgcCXHIq",
        "outputId": "dcda2e55-f1ca-45aa-8803-92e82829c7c6"
      },
      "source": [
        "classifier = MLPClassifier(solver='lbfgs', alpha=1e-5, hidden_layer_sizes=(5, 2), random_state=1)\n",
        "targets = df_train_1['sentiment'].values\n",
        "\n",
        "classifier.fit(counts, targets)"
      ],
      "id": "VGOEpgcCXHIq",
      "execution_count": 297,
      "outputs": [
        {
          "output_type": "execute_result",
          "data": {
            "text/plain": [
              "MLPClassifier(alpha=1e-05, hidden_layer_sizes=(5, 2), random_state=1,\n",
              "              solver='lbfgs')"
            ]
          },
          "metadata": {},
          "execution_count": 297
        }
      ]
    },
    {
      "cell_type": "code",
      "metadata": {
        "colab": {
          "base_uri": "https://localhost:8080/"
        },
        "id": "HSF5v0IPXHIq",
        "outputId": "a485f282-2cf7-422c-b2b5-354bc5610942"
      },
      "source": [
        "#Example\n",
        "example = ['mother fucker']\n",
        "example_counts = vectorizer_non.transform(example)\n",
        "\n",
        "prediction = classifier.predict(example_counts)\n",
        "prediction"
      ],
      "id": "HSF5v0IPXHIq",
      "execution_count": 298,
      "outputs": [
        {
          "output_type": "execute_result",
          "data": {
            "text/plain": [
              "array([2])"
            ]
          },
          "metadata": {},
          "execution_count": 298
        }
      ]
    },
    {
      "cell_type": "code",
      "metadata": {
        "colab": {
          "base_uri": "https://localhost:8080/",
          "height": 419
        },
        "id": "_JlI8-UgXHIr",
        "outputId": "f96457d5-f7cc-4166-988f-c0f72127e3fa"
      },
      "source": [
        "df_train_2['vectorizer'] = df_train_2['comment_text'].map(lambda x: vectorizer_non.transform([x]))\n",
        "df_train_2['prediction'] = df_train_2['vectorizer'].map(lambda x: classifier.predict(x)[0])\n",
        "df_train_2[['comment_text','sentiment','prediction']]"
      ],
      "id": "_JlI8-UgXHIr",
      "execution_count": 299,
      "outputs": [
        {
          "output_type": "execute_result",
          "data": {
            "text/html": [
              "<div>\n",
              "<style scoped>\n",
              "    .dataframe tbody tr th:only-of-type {\n",
              "        vertical-align: middle;\n",
              "    }\n",
              "\n",
              "    .dataframe tbody tr th {\n",
              "        vertical-align: top;\n",
              "    }\n",
              "\n",
              "    .dataframe thead th {\n",
              "        text-align: right;\n",
              "    }\n",
              "</style>\n",
              "<table border=\"1\" class=\"dataframe\">\n",
              "  <thead>\n",
              "    <tr style=\"text-align: right;\">\n",
              "      <th></th>\n",
              "      <th>comment_text</th>\n",
              "      <th>sentiment</th>\n",
              "      <th>prediction</th>\n",
              "    </tr>\n",
              "  </thead>\n",
              "  <tbody>\n",
              "    <tr>\n",
              "      <th>0</th>\n",
              "      <td>intimidation would fucking piggy face people p...</td>\n",
              "      <td>4</td>\n",
              "      <td>2</td>\n",
              "    </tr>\n",
              "    <tr>\n",
              "      <th>1</th>\n",
              "      <td>from someone totally wronged bullshit managed ...</td>\n",
              "      <td>1</td>\n",
              "      <td>1</td>\n",
              "    </tr>\n",
              "    <tr>\n",
              "      <th>2</th>\n",
              "      <td>joking welcomed athenian politely albanian wik...</td>\n",
              "      <td>1</td>\n",
              "      <td>1</td>\n",
              "    </tr>\n",
              "    <tr>\n",
              "      <th>3</th>\n",
              "      <td>idiots always demand explain talk pages always...</td>\n",
              "      <td>2</td>\n",
              "      <td>1</td>\n",
              "    </tr>\n",
              "    <tr>\n",
              "      <th>4</th>\n",
              "      <td>jehovah witnesses bunch cultish freaks need ah...</td>\n",
              "      <td>1</td>\n",
              "      <td>1</td>\n",
              "    </tr>\n",
              "    <tr>\n",
              "      <th>...</th>\n",
              "      <td>...</td>\n",
              "      <td>...</td>\n",
              "      <td>...</td>\n",
              "    </tr>\n",
              "    <tr>\n",
              "      <th>3889</th>\n",
              "      <td>previous conversation fucking shit eating libe...</td>\n",
              "      <td>3</td>\n",
              "      <td>2</td>\n",
              "    </tr>\n",
              "    <tr>\n",
              "      <th>3890</th>\n",
              "      <td>mischievious pubic hair</td>\n",
              "      <td>2</td>\n",
              "      <td>2</td>\n",
              "    </tr>\n",
              "    <tr>\n",
              "      <th>3891</th>\n",
              "      <td>your absurd edits your absurd edits great whit...</td>\n",
              "      <td>2</td>\n",
              "      <td>1</td>\n",
              "    </tr>\n",
              "    <tr>\n",
              "      <th>3892</th>\n",
              "      <td>listen ever delete edits ever annoyed 2k15 ros...</td>\n",
              "      <td>2</td>\n",
              "      <td>2</td>\n",
              "    </tr>\n",
              "    <tr>\n",
              "      <th>3893</th>\n",
              "      <td>going keep posting stuff deleted fucking site ...</td>\n",
              "      <td>2</td>\n",
              "      <td>2</td>\n",
              "    </tr>\n",
              "  </tbody>\n",
              "</table>\n",
              "<p>3894 rows × 3 columns</p>\n",
              "</div>"
            ],
            "text/plain": [
              "                                           comment_text  sentiment  prediction\n",
              "0     intimidation would fucking piggy face people p...          4           2\n",
              "1     from someone totally wronged bullshit managed ...          1           1\n",
              "2     joking welcomed athenian politely albanian wik...          1           1\n",
              "3     idiots always demand explain talk pages always...          2           1\n",
              "4     jehovah witnesses bunch cultish freaks need ah...          1           1\n",
              "...                                                 ...        ...         ...\n",
              "3889  previous conversation fucking shit eating libe...          3           2\n",
              "3890                           mischievious pubic hair           2           2\n",
              "3891  your absurd edits your absurd edits great whit...          2           1\n",
              "3892  listen ever delete edits ever annoyed 2k15 ros...          2           2\n",
              "3893  going keep posting stuff deleted fucking site ...          2           2\n",
              "\n",
              "[3894 rows x 3 columns]"
            ]
          },
          "metadata": {},
          "execution_count": 299
        }
      ]
    },
    {
      "cell_type": "code",
      "metadata": {
        "colab": {
          "base_uri": "https://localhost:8080/"
        },
        "id": "xqBd5HLtXHIr",
        "outputId": "2ffa3abc-afbd-484f-ef1c-42454c53766a"
      },
      "source": [
        "y_test = df_train_2[['sentiment']]\n",
        "y_pred = df_train_2[['prediction']]\n",
        "nn.append(metrics.accuracy_score(y_test, y_pred))\n",
        "# Model Accuracy, how often is the classifier correct?\n",
        "print(\"Accuracy:\",metrics.accuracy_score(y_test, y_pred))"
      ],
      "id": "xqBd5HLtXHIr",
      "execution_count": 300,
      "outputs": [
        {
          "output_type": "stream",
          "name": "stdout",
          "text": [
            "Accuracy: 0.5842321520287622\n"
          ]
        }
      ]
    },
    {
      "cell_type": "markdown",
      "metadata": {
        "id": "PWZfOIlBW5qx"
      },
      "source": [
        "##TF-IDF"
      ],
      "id": "PWZfOIlBW5qx"
    },
    {
      "cell_type": "code",
      "metadata": {
        "execution": {
          "iopub.execute_input": "2021-11-18T02:26:57.621630Z",
          "iopub.status.busy": "2021-11-18T02:26:57.620752Z",
          "iopub.status.idle": "2021-11-18T02:26:57.623848Z",
          "shell.execute_reply": "2021-11-18T02:26:57.624312Z",
          "shell.execute_reply.started": "2021-11-18T01:50:54.768662Z"
        },
        "papermill": {
          "duration": 2.942618,
          "end_time": "2021-11-18T02:26:57.624516",
          "exception": false,
          "start_time": "2021-11-18T02:26:54.681898",
          "status": "completed"
        },
        "tags": [],
        "id": "c45ec4a7"
      },
      "source": [
        "df_train = df_train.reset_index(drop=True)\n",
        "df_train_1 = df_train[:15576]\n",
        "df_train_2 = df_train[15576:].reset_index(drop=True)"
      ],
      "id": "c45ec4a7",
      "execution_count": 301,
      "outputs": []
    },
    {
      "cell_type": "code",
      "metadata": {
        "id": "dEM4MiafX3U2"
      },
      "source": [
        "counts = vectorizer.fit_transform(df_train_1['comment_text'].values)"
      ],
      "id": "dEM4MiafX3U2",
      "execution_count": 355,
      "outputs": []
    },
    {
      "cell_type": "markdown",
      "metadata": {
        "papermill": {
          "duration": 2.904864,
          "end_time": "2021-11-18T02:26:51.812818",
          "exception": false,
          "start_time": "2021-11-18T02:26:48.907954",
          "status": "completed"
        },
        "tags": [],
        "id": "7e047df1"
      },
      "source": [
        "### Naive Bayes"
      ],
      "id": "7e047df1"
    },
    {
      "cell_type": "code",
      "metadata": {
        "execution": {
          "iopub.execute_input": "2021-11-18T02:27:03.488168Z",
          "iopub.status.busy": "2021-11-18T02:27:03.487524Z",
          "iopub.status.idle": "2021-11-18T02:27:04.161099Z",
          "shell.execute_reply": "2021-11-18T02:27:04.161612Z",
          "shell.execute_reply.started": "2021-11-18T01:50:56.740968Z"
        },
        "papermill": {
          "duration": 3.556935,
          "end_time": "2021-11-18T02:27:04.161778",
          "exception": false,
          "start_time": "2021-11-18T02:27:00.604843",
          "status": "completed"
        },
        "tags": [],
        "id": "50aae183",
        "colab": {
          "base_uri": "https://localhost:8080/"
        },
        "outputId": "0dad547b-950f-48c9-ae68-12373d06f1e2"
      },
      "source": [
        "classifier = MultinomialNB()\n",
        "targets = df_train_1['sentiment'].values\n",
        "\n",
        "classifier.fit(counts, targets)"
      ],
      "id": "50aae183",
      "execution_count": 303,
      "outputs": [
        {
          "output_type": "execute_result",
          "data": {
            "text/plain": [
              "MultinomialNB()"
            ]
          },
          "metadata": {},
          "execution_count": 303
        }
      ]
    },
    {
      "cell_type": "code",
      "metadata": {
        "execution": {
          "iopub.execute_input": "2021-11-18T02:27:09.972893Z",
          "iopub.status.busy": "2021-11-18T02:27:09.971895Z",
          "iopub.status.idle": "2021-11-18T02:27:09.979000Z",
          "shell.execute_reply": "2021-11-18T02:27:09.979602Z",
          "shell.execute_reply.started": "2021-11-18T01:51:00.534839Z"
        },
        "papermill": {
          "duration": 2.906019,
          "end_time": "2021-11-18T02:27:09.979770",
          "exception": false,
          "start_time": "2021-11-18T02:27:07.073751",
          "status": "completed"
        },
        "tags": [],
        "id": "2c30971d",
        "colab": {
          "base_uri": "https://localhost:8080/"
        },
        "outputId": "91ba894f-614c-4fed-b22d-354a77724ab2"
      },
      "source": [
        "#Example\n",
        "example = ['mother fucker']\n",
        "example_counts = vectorizer.transform(example)\n",
        "\n",
        "prediction = classifier.predict(example_counts)\n",
        "prediction"
      ],
      "id": "2c30971d",
      "execution_count": 304,
      "outputs": [
        {
          "output_type": "execute_result",
          "data": {
            "text/plain": [
              "array([2])"
            ]
          },
          "metadata": {},
          "execution_count": 304
        }
      ]
    },
    {
      "cell_type": "code",
      "metadata": {
        "execution": {
          "iopub.execute_input": "2021-11-18T02:27:21.654990Z",
          "iopub.status.busy": "2021-11-18T02:27:21.654318Z",
          "iopub.status.idle": "2021-11-18T02:27:23.828737Z",
          "shell.execute_reply": "2021-11-18T02:27:23.828163Z",
          "shell.execute_reply.started": "2021-11-18T02:08:30.520763Z"
        },
        "papermill": {
          "duration": 5.120004,
          "end_time": "2021-11-18T02:27:23.828893",
          "exception": false,
          "start_time": "2021-11-18T02:27:18.708889",
          "status": "completed"
        },
        "tags": [],
        "id": "341c0ac4",
        "colab": {
          "base_uri": "https://localhost:8080/",
          "height": 419
        },
        "outputId": "6fb9ea29-d03e-4dc1-c58c-d59c0e15c16c"
      },
      "source": [
        "df_train_2['vectorizer'] = df_train_2['comment_text'].map(lambda x: vectorizer.transform([x]))\n",
        "df_train_2['prediction'] = df_train_2['vectorizer'].map(lambda x: classifier.predict(x)[0])\n",
        "df_train_2[['comment_text','sentiment','prediction']]"
      ],
      "id": "341c0ac4",
      "execution_count": 305,
      "outputs": [
        {
          "output_type": "execute_result",
          "data": {
            "text/html": [
              "<div>\n",
              "<style scoped>\n",
              "    .dataframe tbody tr th:only-of-type {\n",
              "        vertical-align: middle;\n",
              "    }\n",
              "\n",
              "    .dataframe tbody tr th {\n",
              "        vertical-align: top;\n",
              "    }\n",
              "\n",
              "    .dataframe thead th {\n",
              "        text-align: right;\n",
              "    }\n",
              "</style>\n",
              "<table border=\"1\" class=\"dataframe\">\n",
              "  <thead>\n",
              "    <tr style=\"text-align: right;\">\n",
              "      <th></th>\n",
              "      <th>comment_text</th>\n",
              "      <th>sentiment</th>\n",
              "      <th>prediction</th>\n",
              "    </tr>\n",
              "  </thead>\n",
              "  <tbody>\n",
              "    <tr>\n",
              "      <th>0</th>\n",
              "      <td>intimidation would fucking piggy face people p...</td>\n",
              "      <td>4</td>\n",
              "      <td>1</td>\n",
              "    </tr>\n",
              "    <tr>\n",
              "      <th>1</th>\n",
              "      <td>from someone totally wronged bullshit managed ...</td>\n",
              "      <td>1</td>\n",
              "      <td>1</td>\n",
              "    </tr>\n",
              "    <tr>\n",
              "      <th>2</th>\n",
              "      <td>joking welcomed athenian politely albanian wik...</td>\n",
              "      <td>1</td>\n",
              "      <td>1</td>\n",
              "    </tr>\n",
              "    <tr>\n",
              "      <th>3</th>\n",
              "      <td>idiots always demand explain talk pages always...</td>\n",
              "      <td>2</td>\n",
              "      <td>1</td>\n",
              "    </tr>\n",
              "    <tr>\n",
              "      <th>4</th>\n",
              "      <td>jehovah witnesses bunch cultish freaks need ah...</td>\n",
              "      <td>1</td>\n",
              "      <td>1</td>\n",
              "    </tr>\n",
              "    <tr>\n",
              "      <th>...</th>\n",
              "      <td>...</td>\n",
              "      <td>...</td>\n",
              "      <td>...</td>\n",
              "    </tr>\n",
              "    <tr>\n",
              "      <th>3889</th>\n",
              "      <td>previous conversation fucking shit eating libe...</td>\n",
              "      <td>3</td>\n",
              "      <td>2</td>\n",
              "    </tr>\n",
              "    <tr>\n",
              "      <th>3890</th>\n",
              "      <td>mischievious pubic hair</td>\n",
              "      <td>2</td>\n",
              "      <td>1</td>\n",
              "    </tr>\n",
              "    <tr>\n",
              "      <th>3891</th>\n",
              "      <td>your absurd edits your absurd edits great whit...</td>\n",
              "      <td>2</td>\n",
              "      <td>1</td>\n",
              "    </tr>\n",
              "    <tr>\n",
              "      <th>3892</th>\n",
              "      <td>listen ever delete edits ever annoyed 2k15 ros...</td>\n",
              "      <td>2</td>\n",
              "      <td>1</td>\n",
              "    </tr>\n",
              "    <tr>\n",
              "      <th>3893</th>\n",
              "      <td>going keep posting stuff deleted fucking site ...</td>\n",
              "      <td>2</td>\n",
              "      <td>2</td>\n",
              "    </tr>\n",
              "  </tbody>\n",
              "</table>\n",
              "<p>3894 rows × 3 columns</p>\n",
              "</div>"
            ],
            "text/plain": [
              "                                           comment_text  sentiment  prediction\n",
              "0     intimidation would fucking piggy face people p...          4           1\n",
              "1     from someone totally wronged bullshit managed ...          1           1\n",
              "2     joking welcomed athenian politely albanian wik...          1           1\n",
              "3     idiots always demand explain talk pages always...          2           1\n",
              "4     jehovah witnesses bunch cultish freaks need ah...          1           1\n",
              "...                                                 ...        ...         ...\n",
              "3889  previous conversation fucking shit eating libe...          3           2\n",
              "3890                           mischievious pubic hair           2           1\n",
              "3891  your absurd edits your absurd edits great whit...          2           1\n",
              "3892  listen ever delete edits ever annoyed 2k15 ros...          2           1\n",
              "3893  going keep posting stuff deleted fucking site ...          2           2\n",
              "\n",
              "[3894 rows x 3 columns]"
            ]
          },
          "metadata": {},
          "execution_count": 305
        }
      ]
    },
    {
      "cell_type": "code",
      "metadata": {
        "execution": {
          "iopub.execute_input": "2021-11-18T02:27:29.614497Z",
          "iopub.status.busy": "2021-11-18T02:27:29.613418Z",
          "iopub.status.idle": "2021-11-18T02:27:29.622144Z",
          "shell.execute_reply": "2021-11-18T02:27:29.623037Z",
          "shell.execute_reply.started": "2021-11-18T01:51:10.193305Z"
        },
        "papermill": {
          "duration": 2.925245,
          "end_time": "2021-11-18T02:27:29.623281",
          "exception": false,
          "start_time": "2021-11-18T02:27:26.698036",
          "status": "completed"
        },
        "tags": [],
        "id": "89f42375",
        "colab": {
          "base_uri": "https://localhost:8080/"
        },
        "outputId": "fee7d461-eb60-44e7-a4bf-c1ba43867245"
      },
      "source": [
        "y_test = df_train_2[['sentiment']]\n",
        "y_pred = df_train_2[['prediction']]\n",
        "bayes.append(metrics.accuracy_score(y_test, y_pred))\n",
        "# Model Accuracy, how often is the classifier correct?\n",
        "print(\"Accuracy:\",metrics.accuracy_score(y_test, y_pred))"
      ],
      "id": "89f42375",
      "execution_count": 306,
      "outputs": [
        {
          "output_type": "stream",
          "name": "stdout",
          "text": [
            "Accuracy: 0.5983564458140729\n"
          ]
        }
      ]
    },
    {
      "cell_type": "markdown",
      "metadata": {
        "id": "Ok7-_Dzpai3J"
      },
      "source": [
        "###KNN"
      ],
      "id": "Ok7-_Dzpai3J"
    },
    {
      "cell_type": "code",
      "metadata": {
        "id": "qJqNAZ1Wftjq"
      },
      "source": [
        "from sklearn.neighbors import KNeighborsClassifier"
      ],
      "id": "qJqNAZ1Wftjq",
      "execution_count": 307,
      "outputs": []
    },
    {
      "cell_type": "code",
      "metadata": {
        "id": "GVd8cz_ifOq8",
        "colab": {
          "base_uri": "https://localhost:8080/"
        },
        "outputId": "cc20cb96-991c-4ec7-cd28-1c034cab69a1"
      },
      "source": [
        "classifier = KNeighborsClassifier(n_neighbors=3)\n",
        "targets = df_train_1['sentiment'].values\n",
        "\n",
        "classifier.fit(counts, targets)"
      ],
      "id": "GVd8cz_ifOq8",
      "execution_count": 308,
      "outputs": [
        {
          "output_type": "execute_result",
          "data": {
            "text/plain": [
              "KNeighborsClassifier(n_neighbors=3)"
            ]
          },
          "metadata": {},
          "execution_count": 308
        }
      ]
    },
    {
      "cell_type": "code",
      "metadata": {
        "id": "fgVKP83Afbso",
        "colab": {
          "base_uri": "https://localhost:8080/"
        },
        "outputId": "9234b415-3d66-4bf8-8234-ef496432b56c"
      },
      "source": [
        "#Example\n",
        "example = ['mother fucker']\n",
        "example_counts = vectorizer.transform(example)\n",
        "\n",
        "prediction = classifier.predict(example_counts)\n",
        "prediction"
      ],
      "id": "fgVKP83Afbso",
      "execution_count": 309,
      "outputs": [
        {
          "output_type": "execute_result",
          "data": {
            "text/plain": [
              "array([2])"
            ]
          },
          "metadata": {},
          "execution_count": 309
        }
      ]
    },
    {
      "cell_type": "code",
      "metadata": {
        "id": "xAgcgoqdgBUp",
        "colab": {
          "base_uri": "https://localhost:8080/",
          "height": 419
        },
        "outputId": "eac1c0c8-07a9-47a9-d982-96ae97cdbd5c"
      },
      "source": [
        "df_train_2['vectorizer'] = df_train_2['comment_text'].map(lambda x: vectorizer.transform([x]))\n",
        "df_train_2['prediction'] = df_train_2['vectorizer'].map(lambda x: classifier.predict(x)[0])\n",
        "df_train_2[['comment_text','sentiment','prediction']]"
      ],
      "id": "xAgcgoqdgBUp",
      "execution_count": 310,
      "outputs": [
        {
          "output_type": "execute_result",
          "data": {
            "text/html": [
              "<div>\n",
              "<style scoped>\n",
              "    .dataframe tbody tr th:only-of-type {\n",
              "        vertical-align: middle;\n",
              "    }\n",
              "\n",
              "    .dataframe tbody tr th {\n",
              "        vertical-align: top;\n",
              "    }\n",
              "\n",
              "    .dataframe thead th {\n",
              "        text-align: right;\n",
              "    }\n",
              "</style>\n",
              "<table border=\"1\" class=\"dataframe\">\n",
              "  <thead>\n",
              "    <tr style=\"text-align: right;\">\n",
              "      <th></th>\n",
              "      <th>comment_text</th>\n",
              "      <th>sentiment</th>\n",
              "      <th>prediction</th>\n",
              "    </tr>\n",
              "  </thead>\n",
              "  <tbody>\n",
              "    <tr>\n",
              "      <th>0</th>\n",
              "      <td>intimidation would fucking piggy face people p...</td>\n",
              "      <td>4</td>\n",
              "      <td>1</td>\n",
              "    </tr>\n",
              "    <tr>\n",
              "      <th>1</th>\n",
              "      <td>from someone totally wronged bullshit managed ...</td>\n",
              "      <td>1</td>\n",
              "      <td>1</td>\n",
              "    </tr>\n",
              "    <tr>\n",
              "      <th>2</th>\n",
              "      <td>joking welcomed athenian politely albanian wik...</td>\n",
              "      <td>1</td>\n",
              "      <td>1</td>\n",
              "    </tr>\n",
              "    <tr>\n",
              "      <th>3</th>\n",
              "      <td>idiots always demand explain talk pages always...</td>\n",
              "      <td>2</td>\n",
              "      <td>1</td>\n",
              "    </tr>\n",
              "    <tr>\n",
              "      <th>4</th>\n",
              "      <td>jehovah witnesses bunch cultish freaks need ah...</td>\n",
              "      <td>1</td>\n",
              "      <td>1</td>\n",
              "    </tr>\n",
              "    <tr>\n",
              "      <th>...</th>\n",
              "      <td>...</td>\n",
              "      <td>...</td>\n",
              "      <td>...</td>\n",
              "    </tr>\n",
              "    <tr>\n",
              "      <th>3889</th>\n",
              "      <td>previous conversation fucking shit eating libe...</td>\n",
              "      <td>3</td>\n",
              "      <td>1</td>\n",
              "    </tr>\n",
              "    <tr>\n",
              "      <th>3890</th>\n",
              "      <td>mischievious pubic hair</td>\n",
              "      <td>2</td>\n",
              "      <td>1</td>\n",
              "    </tr>\n",
              "    <tr>\n",
              "      <th>3891</th>\n",
              "      <td>your absurd edits your absurd edits great whit...</td>\n",
              "      <td>2</td>\n",
              "      <td>1</td>\n",
              "    </tr>\n",
              "    <tr>\n",
              "      <th>3892</th>\n",
              "      <td>listen ever delete edits ever annoyed 2k15 ros...</td>\n",
              "      <td>2</td>\n",
              "      <td>1</td>\n",
              "    </tr>\n",
              "    <tr>\n",
              "      <th>3893</th>\n",
              "      <td>going keep posting stuff deleted fucking site ...</td>\n",
              "      <td>2</td>\n",
              "      <td>1</td>\n",
              "    </tr>\n",
              "  </tbody>\n",
              "</table>\n",
              "<p>3894 rows × 3 columns</p>\n",
              "</div>"
            ],
            "text/plain": [
              "                                           comment_text  sentiment  prediction\n",
              "0     intimidation would fucking piggy face people p...          4           1\n",
              "1     from someone totally wronged bullshit managed ...          1           1\n",
              "2     joking welcomed athenian politely albanian wik...          1           1\n",
              "3     idiots always demand explain talk pages always...          2           1\n",
              "4     jehovah witnesses bunch cultish freaks need ah...          1           1\n",
              "...                                                 ...        ...         ...\n",
              "3889  previous conversation fucking shit eating libe...          3           1\n",
              "3890                           mischievious pubic hair           2           1\n",
              "3891  your absurd edits your absurd edits great whit...          2           1\n",
              "3892  listen ever delete edits ever annoyed 2k15 ros...          2           1\n",
              "3893  going keep posting stuff deleted fucking site ...          2           1\n",
              "\n",
              "[3894 rows x 3 columns]"
            ]
          },
          "metadata": {},
          "execution_count": 310
        }
      ]
    },
    {
      "cell_type": "code",
      "metadata": {
        "id": "ZImQ5V1ZgP8W",
        "colab": {
          "base_uri": "https://localhost:8080/"
        },
        "outputId": "34944f9f-5521-443b-8320-c12725325584"
      },
      "source": [
        "y_test = df_train_2[['sentiment']]\n",
        "y_pred = df_train_2[['prediction']]\n",
        "knn.append(metrics.accuracy_score(y_test, y_pred))\n",
        "# Model Accuracy, how often is the classifier correct?\n",
        "print(\"Accuracy:\",metrics.accuracy_score(y_test, y_pred))"
      ],
      "id": "ZImQ5V1ZgP8W",
      "execution_count": 311,
      "outputs": [
        {
          "output_type": "stream",
          "name": "stdout",
          "text": [
            "Accuracy: 0.536723163841808\n"
          ]
        }
      ]
    },
    {
      "cell_type": "markdown",
      "metadata": {
        "id": "bWfS6ZfGiHrA"
      },
      "source": [
        "###Decision Tree"
      ],
      "id": "bWfS6ZfGiHrA"
    },
    {
      "cell_type": "code",
      "metadata": {
        "id": "PzvtODamgbja"
      },
      "source": [
        "from sklearn import tree"
      ],
      "id": "PzvtODamgbja",
      "execution_count": 312,
      "outputs": []
    },
    {
      "cell_type": "code",
      "metadata": {
        "id": "oxf2t4wmiVom",
        "colab": {
          "base_uri": "https://localhost:8080/"
        },
        "outputId": "d3a9fa8e-8fc6-4580-b43a-d27ed05161e0"
      },
      "source": [
        "classifier = tree.DecisionTreeClassifier()\n",
        "targets = df_train_1['sentiment'].values\n",
        "\n",
        "classifier.fit(counts, targets)"
      ],
      "id": "oxf2t4wmiVom",
      "execution_count": 313,
      "outputs": [
        {
          "output_type": "execute_result",
          "data": {
            "text/plain": [
              "DecisionTreeClassifier()"
            ]
          },
          "metadata": {},
          "execution_count": 313
        }
      ]
    },
    {
      "cell_type": "code",
      "metadata": {
        "id": "A6SRRdr-iOxI",
        "colab": {
          "base_uri": "https://localhost:8080/"
        },
        "outputId": "382a3e9b-9f0f-4de2-ca5d-75cd7e56426a"
      },
      "source": [
        "#Example\n",
        "example = ['mother fucker']\n",
        "example_counts = vectorizer.transform(example)\n",
        "\n",
        "prediction = classifier.predict(example_counts)\n",
        "prediction"
      ],
      "id": "A6SRRdr-iOxI",
      "execution_count": 314,
      "outputs": [
        {
          "output_type": "execute_result",
          "data": {
            "text/plain": [
              "array([2])"
            ]
          },
          "metadata": {},
          "execution_count": 314
        }
      ]
    },
    {
      "cell_type": "code",
      "metadata": {
        "id": "zOz-RDSEjJtv",
        "colab": {
          "base_uri": "https://localhost:8080/",
          "height": 419
        },
        "outputId": "9697e5aa-444a-4335-c502-34d1b56e3f50"
      },
      "source": [
        "df_train_2['vectorizer'] = df_train_2['comment_text'].map(lambda x: vectorizer.transform([x]))\n",
        "df_train_2['prediction'] = df_train_2['vectorizer'].map(lambda x: classifier.predict(x)[0])\n",
        "df_train_2[['comment_text','sentiment','prediction']]"
      ],
      "id": "zOz-RDSEjJtv",
      "execution_count": 315,
      "outputs": [
        {
          "output_type": "execute_result",
          "data": {
            "text/html": [
              "<div>\n",
              "<style scoped>\n",
              "    .dataframe tbody tr th:only-of-type {\n",
              "        vertical-align: middle;\n",
              "    }\n",
              "\n",
              "    .dataframe tbody tr th {\n",
              "        vertical-align: top;\n",
              "    }\n",
              "\n",
              "    .dataframe thead th {\n",
              "        text-align: right;\n",
              "    }\n",
              "</style>\n",
              "<table border=\"1\" class=\"dataframe\">\n",
              "  <thead>\n",
              "    <tr style=\"text-align: right;\">\n",
              "      <th></th>\n",
              "      <th>comment_text</th>\n",
              "      <th>sentiment</th>\n",
              "      <th>prediction</th>\n",
              "    </tr>\n",
              "  </thead>\n",
              "  <tbody>\n",
              "    <tr>\n",
              "      <th>0</th>\n",
              "      <td>intimidation would fucking piggy face people p...</td>\n",
              "      <td>4</td>\n",
              "      <td>3</td>\n",
              "    </tr>\n",
              "    <tr>\n",
              "      <th>1</th>\n",
              "      <td>from someone totally wronged bullshit managed ...</td>\n",
              "      <td>1</td>\n",
              "      <td>1</td>\n",
              "    </tr>\n",
              "    <tr>\n",
              "      <th>2</th>\n",
              "      <td>joking welcomed athenian politely albanian wik...</td>\n",
              "      <td>1</td>\n",
              "      <td>1</td>\n",
              "    </tr>\n",
              "    <tr>\n",
              "      <th>3</th>\n",
              "      <td>idiots always demand explain talk pages always...</td>\n",
              "      <td>2</td>\n",
              "      <td>1</td>\n",
              "    </tr>\n",
              "    <tr>\n",
              "      <th>4</th>\n",
              "      <td>jehovah witnesses bunch cultish freaks need ah...</td>\n",
              "      <td>1</td>\n",
              "      <td>1</td>\n",
              "    </tr>\n",
              "    <tr>\n",
              "      <th>...</th>\n",
              "      <td>...</td>\n",
              "      <td>...</td>\n",
              "      <td>...</td>\n",
              "    </tr>\n",
              "    <tr>\n",
              "      <th>3889</th>\n",
              "      <td>previous conversation fucking shit eating libe...</td>\n",
              "      <td>3</td>\n",
              "      <td>2</td>\n",
              "    </tr>\n",
              "    <tr>\n",
              "      <th>3890</th>\n",
              "      <td>mischievious pubic hair</td>\n",
              "      <td>2</td>\n",
              "      <td>1</td>\n",
              "    </tr>\n",
              "    <tr>\n",
              "      <th>3891</th>\n",
              "      <td>your absurd edits your absurd edits great whit...</td>\n",
              "      <td>2</td>\n",
              "      <td>2</td>\n",
              "    </tr>\n",
              "    <tr>\n",
              "      <th>3892</th>\n",
              "      <td>listen ever delete edits ever annoyed 2k15 ros...</td>\n",
              "      <td>2</td>\n",
              "      <td>1</td>\n",
              "    </tr>\n",
              "    <tr>\n",
              "      <th>3893</th>\n",
              "      <td>going keep posting stuff deleted fucking site ...</td>\n",
              "      <td>2</td>\n",
              "      <td>2</td>\n",
              "    </tr>\n",
              "  </tbody>\n",
              "</table>\n",
              "<p>3894 rows × 3 columns</p>\n",
              "</div>"
            ],
            "text/plain": [
              "                                           comment_text  sentiment  prediction\n",
              "0     intimidation would fucking piggy face people p...          4           3\n",
              "1     from someone totally wronged bullshit managed ...          1           1\n",
              "2     joking welcomed athenian politely albanian wik...          1           1\n",
              "3     idiots always demand explain talk pages always...          2           1\n",
              "4     jehovah witnesses bunch cultish freaks need ah...          1           1\n",
              "...                                                 ...        ...         ...\n",
              "3889  previous conversation fucking shit eating libe...          3           2\n",
              "3890                           mischievious pubic hair           2           1\n",
              "3891  your absurd edits your absurd edits great whit...          2           2\n",
              "3892  listen ever delete edits ever annoyed 2k15 ros...          2           1\n",
              "3893  going keep posting stuff deleted fucking site ...          2           2\n",
              "\n",
              "[3894 rows x 3 columns]"
            ]
          },
          "metadata": {},
          "execution_count": 315
        }
      ]
    },
    {
      "cell_type": "code",
      "metadata": {
        "id": "K_5WFQ_ljN0e",
        "colab": {
          "base_uri": "https://localhost:8080/"
        },
        "outputId": "034227ce-6fc0-4970-86b5-b5d9a082c23d"
      },
      "source": [
        "y_test = df_train_2[['sentiment']]\n",
        "y_pred = df_train_2[['prediction']]\n",
        "dt.append(metrics.accuracy_score(y_test, y_pred))\n",
        "# Model Accuracy, how often is the classifier correct?\n",
        "print(\"Accuracy:\",metrics.accuracy_score(y_test, y_pred))"
      ],
      "id": "K_5WFQ_ljN0e",
      "execution_count": 316,
      "outputs": [
        {
          "output_type": "stream",
          "name": "stdout",
          "text": [
            "Accuracy: 0.5662557781201849\n"
          ]
        }
      ]
    },
    {
      "cell_type": "markdown",
      "metadata": {
        "id": "Laf-V3E0jcHT"
      },
      "source": [
        "###SVM"
      ],
      "id": "Laf-V3E0jcHT"
    },
    {
      "cell_type": "code",
      "metadata": {
        "id": "T_Md6qEBjQ-h"
      },
      "source": [
        "from sklearn import svm"
      ],
      "id": "T_Md6qEBjQ-h",
      "execution_count": 317,
      "outputs": []
    },
    {
      "cell_type": "code",
      "metadata": {
        "id": "CY_Mm7kRjeeR",
        "colab": {
          "base_uri": "https://localhost:8080/"
        },
        "outputId": "cb67111c-8f23-4599-81e2-632e0f21f175"
      },
      "source": [
        "classifier = svm.SVC()\n",
        "targets = df_train_1['sentiment'].values\n",
        "\n",
        "classifier.fit(counts, targets)"
      ],
      "id": "CY_Mm7kRjeeR",
      "execution_count": 356,
      "outputs": [
        {
          "output_type": "execute_result",
          "data": {
            "text/plain": [
              "SVC()"
            ]
          },
          "metadata": {},
          "execution_count": 356
        }
      ]
    },
    {
      "cell_type": "code",
      "metadata": {
        "id": "d7KvCceijktE",
        "colab": {
          "base_uri": "https://localhost:8080/"
        },
        "outputId": "3a6d6e63-6ce9-4c97-a2cc-f5e411afa99f"
      },
      "source": [
        "#Example\n",
        "example = ['mother fucker']\n",
        "example_counts = vectorizer.transform(example)\n",
        "\n",
        "prediction = classifier.predict(example_counts)\n",
        "prediction"
      ],
      "id": "d7KvCceijktE",
      "execution_count": 357,
      "outputs": [
        {
          "output_type": "execute_result",
          "data": {
            "text/plain": [
              "array([2])"
            ]
          },
          "metadata": {},
          "execution_count": 357
        }
      ]
    },
    {
      "cell_type": "code",
      "metadata": {
        "id": "Pabeoe2mjpQL",
        "colab": {
          "base_uri": "https://localhost:8080/",
          "height": 419
        },
        "outputId": "7d4b0b25-fc00-4fe4-968a-60a972edbe74"
      },
      "source": [
        "df_train_2['vectorizer'] = df_train_2['comment_text'].map(lambda x: vectorizer.transform([x]))\n",
        "df_train_2['prediction'] = df_train_2['vectorizer'].map(lambda x: classifier.predict(x)[0])\n",
        "df_train_2[['comment_text','sentiment','prediction']]"
      ],
      "id": "Pabeoe2mjpQL",
      "execution_count": 358,
      "outputs": [
        {
          "output_type": "execute_result",
          "data": {
            "text/html": [
              "<div>\n",
              "<style scoped>\n",
              "    .dataframe tbody tr th:only-of-type {\n",
              "        vertical-align: middle;\n",
              "    }\n",
              "\n",
              "    .dataframe tbody tr th {\n",
              "        vertical-align: top;\n",
              "    }\n",
              "\n",
              "    .dataframe thead th {\n",
              "        text-align: right;\n",
              "    }\n",
              "</style>\n",
              "<table border=\"1\" class=\"dataframe\">\n",
              "  <thead>\n",
              "    <tr style=\"text-align: right;\">\n",
              "      <th></th>\n",
              "      <th>comment_text</th>\n",
              "      <th>sentiment</th>\n",
              "      <th>prediction</th>\n",
              "    </tr>\n",
              "  </thead>\n",
              "  <tbody>\n",
              "    <tr>\n",
              "      <th>0</th>\n",
              "      <td>intimidation would fucking piggy face people p...</td>\n",
              "      <td>4</td>\n",
              "      <td>2</td>\n",
              "    </tr>\n",
              "    <tr>\n",
              "      <th>1</th>\n",
              "      <td>from someone totally wronged bullshit managed ...</td>\n",
              "      <td>1</td>\n",
              "      <td>1</td>\n",
              "    </tr>\n",
              "    <tr>\n",
              "      <th>2</th>\n",
              "      <td>joking welcomed athenian politely albanian wik...</td>\n",
              "      <td>1</td>\n",
              "      <td>1</td>\n",
              "    </tr>\n",
              "    <tr>\n",
              "      <th>3</th>\n",
              "      <td>idiots always demand explain talk pages always...</td>\n",
              "      <td>2</td>\n",
              "      <td>1</td>\n",
              "    </tr>\n",
              "    <tr>\n",
              "      <th>4</th>\n",
              "      <td>jehovah witnesses bunch cultish freaks need ah...</td>\n",
              "      <td>1</td>\n",
              "      <td>1</td>\n",
              "    </tr>\n",
              "    <tr>\n",
              "      <th>...</th>\n",
              "      <td>...</td>\n",
              "      <td>...</td>\n",
              "      <td>...</td>\n",
              "    </tr>\n",
              "    <tr>\n",
              "      <th>3889</th>\n",
              "      <td>previous conversation fucking shit eating libe...</td>\n",
              "      <td>3</td>\n",
              "      <td>3</td>\n",
              "    </tr>\n",
              "    <tr>\n",
              "      <th>3890</th>\n",
              "      <td>mischievious pubic hair</td>\n",
              "      <td>2</td>\n",
              "      <td>1</td>\n",
              "    </tr>\n",
              "    <tr>\n",
              "      <th>3891</th>\n",
              "      <td>your absurd edits your absurd edits great whit...</td>\n",
              "      <td>2</td>\n",
              "      <td>1</td>\n",
              "    </tr>\n",
              "    <tr>\n",
              "      <th>3892</th>\n",
              "      <td>listen ever delete edits ever annoyed 2k15 ros...</td>\n",
              "      <td>2</td>\n",
              "      <td>2</td>\n",
              "    </tr>\n",
              "    <tr>\n",
              "      <th>3893</th>\n",
              "      <td>going keep posting stuff deleted fucking site ...</td>\n",
              "      <td>2</td>\n",
              "      <td>2</td>\n",
              "    </tr>\n",
              "  </tbody>\n",
              "</table>\n",
              "<p>3894 rows × 3 columns</p>\n",
              "</div>"
            ],
            "text/plain": [
              "                                           comment_text  sentiment  prediction\n",
              "0     intimidation would fucking piggy face people p...          4           2\n",
              "1     from someone totally wronged bullshit managed ...          1           1\n",
              "2     joking welcomed athenian politely albanian wik...          1           1\n",
              "3     idiots always demand explain talk pages always...          2           1\n",
              "4     jehovah witnesses bunch cultish freaks need ah...          1           1\n",
              "...                                                 ...        ...         ...\n",
              "3889  previous conversation fucking shit eating libe...          3           3\n",
              "3890                           mischievious pubic hair           2           1\n",
              "3891  your absurd edits your absurd edits great whit...          2           1\n",
              "3892  listen ever delete edits ever annoyed 2k15 ros...          2           2\n",
              "3893  going keep posting stuff deleted fucking site ...          2           2\n",
              "\n",
              "[3894 rows x 3 columns]"
            ]
          },
          "metadata": {},
          "execution_count": 358
        }
      ]
    },
    {
      "cell_type": "code",
      "metadata": {
        "id": "U3Cm2w3AjwwT",
        "colab": {
          "base_uri": "https://localhost:8080/"
        },
        "outputId": "78336ca4-00c1-4a81-a009-5a7e3f8a6108"
      },
      "source": [
        "y_test = df_train_2[['sentiment']]\n",
        "y_pred = df_train_2[['prediction']]\n",
        "svma.append(metrics.accuracy_score(y_test, y_pred))\n",
        "# Model Accuracy, how often is the classifier correct?\n",
        "print(\"Accuracy:\",metrics.accuracy_score(y_test, y_pred))"
      ],
      "id": "U3Cm2w3AjwwT",
      "execution_count": 359,
      "outputs": [
        {
          "output_type": "stream",
          "name": "stdout",
          "text": [
            "Accuracy: 0.6366204417051875\n"
          ]
        }
      ]
    },
    {
      "cell_type": "markdown",
      "metadata": {
        "id": "WNn7S4SZj-Or"
      },
      "source": [
        "###Stochastic Gradient Descent\n"
      ],
      "id": "WNn7S4SZj-Or"
    },
    {
      "cell_type": "code",
      "metadata": {
        "id": "iAIRctXnjz-l"
      },
      "source": [
        "from sklearn.linear_model import SGDClassifier"
      ],
      "id": "iAIRctXnjz-l",
      "execution_count": 322,
      "outputs": []
    },
    {
      "cell_type": "code",
      "metadata": {
        "id": "9KopvwiikJVL",
        "colab": {
          "base_uri": "https://localhost:8080/"
        },
        "outputId": "445afc1f-5fce-4a44-80e8-3ecf198605a2"
      },
      "source": [
        "classifier = SGDClassifier(loss=\"hinge\", penalty=\"l2\", max_iter=5)\n",
        "targets = df_train_1['sentiment'].values\n",
        "\n",
        "classifier.fit(counts, targets)"
      ],
      "id": "9KopvwiikJVL",
      "execution_count": 323,
      "outputs": [
        {
          "output_type": "execute_result",
          "data": {
            "text/plain": [
              "SGDClassifier(max_iter=5)"
            ]
          },
          "metadata": {},
          "execution_count": 323
        }
      ]
    },
    {
      "cell_type": "code",
      "metadata": {
        "id": "jLlIS8nvkrbD",
        "colab": {
          "base_uri": "https://localhost:8080/"
        },
        "outputId": "1271fa71-036c-4289-ab67-d40f10de2dd7"
      },
      "source": [
        "#Example\n",
        "example = ['mother fucker']\n",
        "example_counts = vectorizer.transform(example)\n",
        "\n",
        "prediction = classifier.predict(example_counts)\n",
        "prediction"
      ],
      "id": "jLlIS8nvkrbD",
      "execution_count": 324,
      "outputs": [
        {
          "output_type": "execute_result",
          "data": {
            "text/plain": [
              "array([3])"
            ]
          },
          "metadata": {},
          "execution_count": 324
        }
      ]
    },
    {
      "cell_type": "code",
      "metadata": {
        "id": "oxdYDzUukvOC",
        "colab": {
          "base_uri": "https://localhost:8080/",
          "height": 419
        },
        "outputId": "46dea882-4da1-4d30-ca6d-5119322f53af"
      },
      "source": [
        "df_train_2['vectorizer'] = df_train_2['comment_text'].map(lambda x: vectorizer.transform([x]))\n",
        "df_train_2['prediction'] = df_train_2['vectorizer'].map(lambda x: classifier.predict(x)[0])\n",
        "df_train_2[['comment_text','sentiment','prediction']]"
      ],
      "id": "oxdYDzUukvOC",
      "execution_count": 325,
      "outputs": [
        {
          "output_type": "execute_result",
          "data": {
            "text/html": [
              "<div>\n",
              "<style scoped>\n",
              "    .dataframe tbody tr th:only-of-type {\n",
              "        vertical-align: middle;\n",
              "    }\n",
              "\n",
              "    .dataframe tbody tr th {\n",
              "        vertical-align: top;\n",
              "    }\n",
              "\n",
              "    .dataframe thead th {\n",
              "        text-align: right;\n",
              "    }\n",
              "</style>\n",
              "<table border=\"1\" class=\"dataframe\">\n",
              "  <thead>\n",
              "    <tr style=\"text-align: right;\">\n",
              "      <th></th>\n",
              "      <th>comment_text</th>\n",
              "      <th>sentiment</th>\n",
              "      <th>prediction</th>\n",
              "    </tr>\n",
              "  </thead>\n",
              "  <tbody>\n",
              "    <tr>\n",
              "      <th>0</th>\n",
              "      <td>intimidation would fucking piggy face people p...</td>\n",
              "      <td>4</td>\n",
              "      <td>2</td>\n",
              "    </tr>\n",
              "    <tr>\n",
              "      <th>1</th>\n",
              "      <td>from someone totally wronged bullshit managed ...</td>\n",
              "      <td>1</td>\n",
              "      <td>1</td>\n",
              "    </tr>\n",
              "    <tr>\n",
              "      <th>2</th>\n",
              "      <td>joking welcomed athenian politely albanian wik...</td>\n",
              "      <td>1</td>\n",
              "      <td>1</td>\n",
              "    </tr>\n",
              "    <tr>\n",
              "      <th>3</th>\n",
              "      <td>idiots always demand explain talk pages always...</td>\n",
              "      <td>2</td>\n",
              "      <td>1</td>\n",
              "    </tr>\n",
              "    <tr>\n",
              "      <th>4</th>\n",
              "      <td>jehovah witnesses bunch cultish freaks need ah...</td>\n",
              "      <td>1</td>\n",
              "      <td>1</td>\n",
              "    </tr>\n",
              "    <tr>\n",
              "      <th>...</th>\n",
              "      <td>...</td>\n",
              "      <td>...</td>\n",
              "      <td>...</td>\n",
              "    </tr>\n",
              "    <tr>\n",
              "      <th>3889</th>\n",
              "      <td>previous conversation fucking shit eating libe...</td>\n",
              "      <td>3</td>\n",
              "      <td>3</td>\n",
              "    </tr>\n",
              "    <tr>\n",
              "      <th>3890</th>\n",
              "      <td>mischievious pubic hair</td>\n",
              "      <td>2</td>\n",
              "      <td>1</td>\n",
              "    </tr>\n",
              "    <tr>\n",
              "      <th>3891</th>\n",
              "      <td>your absurd edits your absurd edits great whit...</td>\n",
              "      <td>2</td>\n",
              "      <td>1</td>\n",
              "    </tr>\n",
              "    <tr>\n",
              "      <th>3892</th>\n",
              "      <td>listen ever delete edits ever annoyed 2k15 ros...</td>\n",
              "      <td>2</td>\n",
              "      <td>2</td>\n",
              "    </tr>\n",
              "    <tr>\n",
              "      <th>3893</th>\n",
              "      <td>going keep posting stuff deleted fucking site ...</td>\n",
              "      <td>2</td>\n",
              "      <td>2</td>\n",
              "    </tr>\n",
              "  </tbody>\n",
              "</table>\n",
              "<p>3894 rows × 3 columns</p>\n",
              "</div>"
            ],
            "text/plain": [
              "                                           comment_text  sentiment  prediction\n",
              "0     intimidation would fucking piggy face people p...          4           2\n",
              "1     from someone totally wronged bullshit managed ...          1           1\n",
              "2     joking welcomed athenian politely albanian wik...          1           1\n",
              "3     idiots always demand explain talk pages always...          2           1\n",
              "4     jehovah witnesses bunch cultish freaks need ah...          1           1\n",
              "...                                                 ...        ...         ...\n",
              "3889  previous conversation fucking shit eating libe...          3           3\n",
              "3890                           mischievious pubic hair           2           1\n",
              "3891  your absurd edits your absurd edits great whit...          2           1\n",
              "3892  listen ever delete edits ever annoyed 2k15 ros...          2           2\n",
              "3893  going keep posting stuff deleted fucking site ...          2           2\n",
              "\n",
              "[3894 rows x 3 columns]"
            ]
          },
          "metadata": {},
          "execution_count": 325
        }
      ]
    },
    {
      "cell_type": "code",
      "metadata": {
        "id": "GjRmGcTBk1Bd",
        "colab": {
          "base_uri": "https://localhost:8080/"
        },
        "outputId": "908953ff-3cdb-4a0b-8dc9-8ebc002f494b"
      },
      "source": [
        "y_test = df_train_2[['sentiment']]\n",
        "y_pred = df_train_2[['prediction']]\n",
        "stochastic.append(metrics.accuracy_score(y_test, y_pred))\n",
        "# Model Accuracy, how often is the classifier correct?\n",
        "print(\"Accuracy:\",metrics.accuracy_score(y_test, y_pred))"
      ],
      "id": "GjRmGcTBk1Bd",
      "execution_count": 326,
      "outputs": [
        {
          "output_type": "stream",
          "name": "stdout",
          "text": [
            "Accuracy: 0.6212121212121212\n"
          ]
        }
      ]
    },
    {
      "cell_type": "markdown",
      "metadata": {
        "id": "hZZ0JgjplPqf"
      },
      "source": [
        "###Neirest Neighbors"
      ],
      "id": "hZZ0JgjplPqf"
    },
    {
      "cell_type": "code",
      "metadata": {
        "id": "Lop9_ziNk876"
      },
      "source": [
        "from sklearn.neighbors import NearestCentroid"
      ],
      "id": "Lop9_ziNk876",
      "execution_count": 327,
      "outputs": []
    },
    {
      "cell_type": "code",
      "metadata": {
        "id": "lP0VWZMUlalB",
        "colab": {
          "base_uri": "https://localhost:8080/"
        },
        "outputId": "be0aba00-eded-4394-8be2-c1f47ae65c7d"
      },
      "source": [
        "classifier = NearestCentroid()\n",
        "targets = df_train_1['sentiment'].values\n",
        "\n",
        "classifier.fit(counts, targets)"
      ],
      "id": "lP0VWZMUlalB",
      "execution_count": 328,
      "outputs": [
        {
          "output_type": "execute_result",
          "data": {
            "text/plain": [
              "NearestCentroid()"
            ]
          },
          "metadata": {},
          "execution_count": 328
        }
      ]
    },
    {
      "cell_type": "code",
      "metadata": {
        "id": "AWRagKa4lgip",
        "colab": {
          "base_uri": "https://localhost:8080/"
        },
        "outputId": "509783d8-fdb1-412d-c63b-5b1bd8daaafd"
      },
      "source": [
        "#Example\n",
        "example = ['mother fucker']\n",
        "example_counts = vectorizer.transform(example)\n",
        "\n",
        "prediction = classifier.predict(example_counts)\n",
        "prediction"
      ],
      "id": "AWRagKa4lgip",
      "execution_count": 329,
      "outputs": [
        {
          "output_type": "execute_result",
          "data": {
            "text/plain": [
              "array([3])"
            ]
          },
          "metadata": {},
          "execution_count": 329
        }
      ]
    },
    {
      "cell_type": "code",
      "metadata": {
        "id": "C124uQAzljXj",
        "colab": {
          "base_uri": "https://localhost:8080/",
          "height": 419
        },
        "outputId": "e098be9a-7967-4fff-bc94-7422fbee4da5"
      },
      "source": [
        "df_train_2['vectorizer'] = df_train_2['comment_text'].map(lambda x: vectorizer.transform([x]))\n",
        "df_train_2['prediction'] = df_train_2['vectorizer'].map(lambda x: classifier.predict(x)[0])\n",
        "df_train_2[['comment_text','sentiment','prediction']]"
      ],
      "id": "C124uQAzljXj",
      "execution_count": 330,
      "outputs": [
        {
          "output_type": "execute_result",
          "data": {
            "text/html": [
              "<div>\n",
              "<style scoped>\n",
              "    .dataframe tbody tr th:only-of-type {\n",
              "        vertical-align: middle;\n",
              "    }\n",
              "\n",
              "    .dataframe tbody tr th {\n",
              "        vertical-align: top;\n",
              "    }\n",
              "\n",
              "    .dataframe thead th {\n",
              "        text-align: right;\n",
              "    }\n",
              "</style>\n",
              "<table border=\"1\" class=\"dataframe\">\n",
              "  <thead>\n",
              "    <tr style=\"text-align: right;\">\n",
              "      <th></th>\n",
              "      <th>comment_text</th>\n",
              "      <th>sentiment</th>\n",
              "      <th>prediction</th>\n",
              "    </tr>\n",
              "  </thead>\n",
              "  <tbody>\n",
              "    <tr>\n",
              "      <th>0</th>\n",
              "      <td>intimidation would fucking piggy face people p...</td>\n",
              "      <td>4</td>\n",
              "      <td>3</td>\n",
              "    </tr>\n",
              "    <tr>\n",
              "      <th>1</th>\n",
              "      <td>from someone totally wronged bullshit managed ...</td>\n",
              "      <td>1</td>\n",
              "      <td>1</td>\n",
              "    </tr>\n",
              "    <tr>\n",
              "      <th>2</th>\n",
              "      <td>joking welcomed athenian politely albanian wik...</td>\n",
              "      <td>1</td>\n",
              "      <td>1</td>\n",
              "    </tr>\n",
              "    <tr>\n",
              "      <th>3</th>\n",
              "      <td>idiots always demand explain talk pages always...</td>\n",
              "      <td>2</td>\n",
              "      <td>1</td>\n",
              "    </tr>\n",
              "    <tr>\n",
              "      <th>4</th>\n",
              "      <td>jehovah witnesses bunch cultish freaks need ah...</td>\n",
              "      <td>1</td>\n",
              "      <td>1</td>\n",
              "    </tr>\n",
              "    <tr>\n",
              "      <th>...</th>\n",
              "      <td>...</td>\n",
              "      <td>...</td>\n",
              "      <td>...</td>\n",
              "    </tr>\n",
              "    <tr>\n",
              "      <th>3889</th>\n",
              "      <td>previous conversation fucking shit eating libe...</td>\n",
              "      <td>3</td>\n",
              "      <td>3</td>\n",
              "    </tr>\n",
              "    <tr>\n",
              "      <th>3890</th>\n",
              "      <td>mischievious pubic hair</td>\n",
              "      <td>2</td>\n",
              "      <td>1</td>\n",
              "    </tr>\n",
              "    <tr>\n",
              "      <th>3891</th>\n",
              "      <td>your absurd edits your absurd edits great whit...</td>\n",
              "      <td>2</td>\n",
              "      <td>2</td>\n",
              "    </tr>\n",
              "    <tr>\n",
              "      <th>3892</th>\n",
              "      <td>listen ever delete edits ever annoyed 2k15 ros...</td>\n",
              "      <td>2</td>\n",
              "      <td>2</td>\n",
              "    </tr>\n",
              "    <tr>\n",
              "      <th>3893</th>\n",
              "      <td>going keep posting stuff deleted fucking site ...</td>\n",
              "      <td>2</td>\n",
              "      <td>3</td>\n",
              "    </tr>\n",
              "  </tbody>\n",
              "</table>\n",
              "<p>3894 rows × 3 columns</p>\n",
              "</div>"
            ],
            "text/plain": [
              "                                           comment_text  sentiment  prediction\n",
              "0     intimidation would fucking piggy face people p...          4           3\n",
              "1     from someone totally wronged bullshit managed ...          1           1\n",
              "2     joking welcomed athenian politely albanian wik...          1           1\n",
              "3     idiots always demand explain talk pages always...          2           1\n",
              "4     jehovah witnesses bunch cultish freaks need ah...          1           1\n",
              "...                                                 ...        ...         ...\n",
              "3889  previous conversation fucking shit eating libe...          3           3\n",
              "3890                           mischievious pubic hair           2           1\n",
              "3891  your absurd edits your absurd edits great whit...          2           2\n",
              "3892  listen ever delete edits ever annoyed 2k15 ros...          2           2\n",
              "3893  going keep posting stuff deleted fucking site ...          2           3\n",
              "\n",
              "[3894 rows x 3 columns]"
            ]
          },
          "metadata": {},
          "execution_count": 330
        }
      ]
    },
    {
      "cell_type": "code",
      "metadata": {
        "id": "SmYr7O1mlmMc",
        "colab": {
          "base_uri": "https://localhost:8080/"
        },
        "outputId": "85c74258-7e83-4d91-faf2-8b3df4ce3959"
      },
      "source": [
        "y_test = df_train_2[['sentiment']]\n",
        "y_pred = df_train_2[['prediction']]\n",
        "neirest.append(metrics.accuracy_score(y_test, y_pred))\n",
        "# Model Accuracy, how often is the classifier correct?\n",
        "print(\"Accuracy:\",metrics.accuracy_score(y_test, y_pred))"
      ],
      "id": "SmYr7O1mlmMc",
      "execution_count": 331,
      "outputs": [
        {
          "output_type": "stream",
          "name": "stdout",
          "text": [
            "Accuracy: 0.5834617360041089\n"
          ]
        }
      ]
    },
    {
      "cell_type": "markdown",
      "metadata": {
        "id": "_FNPX1-CmwsN"
      },
      "source": [
        "###Linear SVC"
      ],
      "id": "_FNPX1-CmwsN"
    },
    {
      "cell_type": "code",
      "metadata": {
        "id": "mLsPawDvlrTM"
      },
      "source": [
        "from sklearn.svm import LinearSVC"
      ],
      "id": "mLsPawDvlrTM",
      "execution_count": 332,
      "outputs": []
    },
    {
      "cell_type": "code",
      "metadata": {
        "id": "zuSQmeuNm0ws",
        "colab": {
          "base_uri": "https://localhost:8080/"
        },
        "outputId": "5b481b83-d69c-49ae-e926-46e524dda8ea"
      },
      "source": [
        "classifier = LinearSVC(random_state=0)\n",
        "targets = df_train_1['sentiment'].values\n",
        "\n",
        "classifier.fit(counts, targets)"
      ],
      "id": "zuSQmeuNm0ws",
      "execution_count": 333,
      "outputs": [
        {
          "output_type": "execute_result",
          "data": {
            "text/plain": [
              "LinearSVC(random_state=0)"
            ]
          },
          "metadata": {},
          "execution_count": 333
        }
      ]
    },
    {
      "cell_type": "code",
      "metadata": {
        "id": "z-mrpJEqnA-n",
        "colab": {
          "base_uri": "https://localhost:8080/"
        },
        "outputId": "ee9dc5a6-4572-4ea9-aa23-e0e4434647e0"
      },
      "source": [
        "#Example\n",
        "example = ['mother fucker']\n",
        "example_counts = vectorizer.transform(example)\n",
        "\n",
        "prediction = classifier.predict(example_counts)\n",
        "prediction"
      ],
      "id": "z-mrpJEqnA-n",
      "execution_count": 334,
      "outputs": [
        {
          "output_type": "execute_result",
          "data": {
            "text/plain": [
              "array([3])"
            ]
          },
          "metadata": {},
          "execution_count": 334
        }
      ]
    },
    {
      "cell_type": "code",
      "metadata": {
        "id": "mMAAjX6LnFgX",
        "colab": {
          "base_uri": "https://localhost:8080/",
          "height": 419
        },
        "outputId": "c4dd645e-7cf7-48e1-ff14-2581e9df8720"
      },
      "source": [
        "df_train_2['vectorizer'] = df_train_2['comment_text'].map(lambda x: vectorizer.transform([x]))\n",
        "df_train_2['prediction'] = df_train_2['vectorizer'].map(lambda x: classifier.predict(x)[0])\n",
        "df_train_2[['comment_text','sentiment','prediction']]"
      ],
      "id": "mMAAjX6LnFgX",
      "execution_count": 335,
      "outputs": [
        {
          "output_type": "execute_result",
          "data": {
            "text/html": [
              "<div>\n",
              "<style scoped>\n",
              "    .dataframe tbody tr th:only-of-type {\n",
              "        vertical-align: middle;\n",
              "    }\n",
              "\n",
              "    .dataframe tbody tr th {\n",
              "        vertical-align: top;\n",
              "    }\n",
              "\n",
              "    .dataframe thead th {\n",
              "        text-align: right;\n",
              "    }\n",
              "</style>\n",
              "<table border=\"1\" class=\"dataframe\">\n",
              "  <thead>\n",
              "    <tr style=\"text-align: right;\">\n",
              "      <th></th>\n",
              "      <th>comment_text</th>\n",
              "      <th>sentiment</th>\n",
              "      <th>prediction</th>\n",
              "    </tr>\n",
              "  </thead>\n",
              "  <tbody>\n",
              "    <tr>\n",
              "      <th>0</th>\n",
              "      <td>intimidation would fucking piggy face people p...</td>\n",
              "      <td>4</td>\n",
              "      <td>2</td>\n",
              "    </tr>\n",
              "    <tr>\n",
              "      <th>1</th>\n",
              "      <td>from someone totally wronged bullshit managed ...</td>\n",
              "      <td>1</td>\n",
              "      <td>1</td>\n",
              "    </tr>\n",
              "    <tr>\n",
              "      <th>2</th>\n",
              "      <td>joking welcomed athenian politely albanian wik...</td>\n",
              "      <td>1</td>\n",
              "      <td>1</td>\n",
              "    </tr>\n",
              "    <tr>\n",
              "      <th>3</th>\n",
              "      <td>idiots always demand explain talk pages always...</td>\n",
              "      <td>2</td>\n",
              "      <td>1</td>\n",
              "    </tr>\n",
              "    <tr>\n",
              "      <th>4</th>\n",
              "      <td>jehovah witnesses bunch cultish freaks need ah...</td>\n",
              "      <td>1</td>\n",
              "      <td>1</td>\n",
              "    </tr>\n",
              "    <tr>\n",
              "      <th>...</th>\n",
              "      <td>...</td>\n",
              "      <td>...</td>\n",
              "      <td>...</td>\n",
              "    </tr>\n",
              "    <tr>\n",
              "      <th>3889</th>\n",
              "      <td>previous conversation fucking shit eating libe...</td>\n",
              "      <td>3</td>\n",
              "      <td>3</td>\n",
              "    </tr>\n",
              "    <tr>\n",
              "      <th>3890</th>\n",
              "      <td>mischievious pubic hair</td>\n",
              "      <td>2</td>\n",
              "      <td>1</td>\n",
              "    </tr>\n",
              "    <tr>\n",
              "      <th>3891</th>\n",
              "      <td>your absurd edits your absurd edits great whit...</td>\n",
              "      <td>2</td>\n",
              "      <td>1</td>\n",
              "    </tr>\n",
              "    <tr>\n",
              "      <th>3892</th>\n",
              "      <td>listen ever delete edits ever annoyed 2k15 ros...</td>\n",
              "      <td>2</td>\n",
              "      <td>2</td>\n",
              "    </tr>\n",
              "    <tr>\n",
              "      <th>3893</th>\n",
              "      <td>going keep posting stuff deleted fucking site ...</td>\n",
              "      <td>2</td>\n",
              "      <td>2</td>\n",
              "    </tr>\n",
              "  </tbody>\n",
              "</table>\n",
              "<p>3894 rows × 3 columns</p>\n",
              "</div>"
            ],
            "text/plain": [
              "                                           comment_text  sentiment  prediction\n",
              "0     intimidation would fucking piggy face people p...          4           2\n",
              "1     from someone totally wronged bullshit managed ...          1           1\n",
              "2     joking welcomed athenian politely albanian wik...          1           1\n",
              "3     idiots always demand explain talk pages always...          2           1\n",
              "4     jehovah witnesses bunch cultish freaks need ah...          1           1\n",
              "...                                                 ...        ...         ...\n",
              "3889  previous conversation fucking shit eating libe...          3           3\n",
              "3890                           mischievious pubic hair           2           1\n",
              "3891  your absurd edits your absurd edits great whit...          2           1\n",
              "3892  listen ever delete edits ever annoyed 2k15 ros...          2           2\n",
              "3893  going keep posting stuff deleted fucking site ...          2           2\n",
              "\n",
              "[3894 rows x 3 columns]"
            ]
          },
          "metadata": {},
          "execution_count": 335
        }
      ]
    },
    {
      "cell_type": "code",
      "metadata": {
        "id": "2ryAvLbYnIMt",
        "colab": {
          "base_uri": "https://localhost:8080/"
        },
        "outputId": "deaed3f4-4b37-4fd8-b5d6-c01d371bb590"
      },
      "source": [
        "y_test = df_train_2[['sentiment']]\n",
        "y_pred = df_train_2[['prediction']]\n",
        "svc.append(metrics.accuracy_score(y_test, y_pred))\n",
        "# Model Accuracy, how often is the classifier correct?\n",
        "print(\"Accuracy:\",metrics.accuracy_score(y_test, y_pred))"
      ],
      "id": "2ryAvLbYnIMt",
      "execution_count": 336,
      "outputs": [
        {
          "output_type": "stream",
          "name": "stdout",
          "text": [
            "Accuracy: 0.6076014381099127\n"
          ]
        }
      ]
    },
    {
      "cell_type": "markdown",
      "metadata": {
        "id": "UxBQB8pDn6-K"
      },
      "source": [
        "###Neural Network"
      ],
      "id": "UxBQB8pDn6-K"
    },
    {
      "cell_type": "code",
      "metadata": {
        "id": "azv70xkwnLwr"
      },
      "source": [
        "from sklearn.neural_network import MLPClassifier"
      ],
      "id": "azv70xkwnLwr",
      "execution_count": 337,
      "outputs": []
    },
    {
      "cell_type": "code",
      "metadata": {
        "id": "K3p6C79koHxv",
        "colab": {
          "base_uri": "https://localhost:8080/"
        },
        "outputId": "ca54f12d-cb59-41f9-8c13-d005995b9417"
      },
      "source": [
        "classifier = MLPClassifier(solver='lbfgs', alpha=1e-5, hidden_layer_sizes=(5, 2), random_state=1)\n",
        "targets = df_train_1['sentiment'].values\n",
        "\n",
        "classifier.fit(counts, targets)"
      ],
      "id": "K3p6C79koHxv",
      "execution_count": 338,
      "outputs": [
        {
          "output_type": "execute_result",
          "data": {
            "text/plain": [
              "MLPClassifier(alpha=1e-05, hidden_layer_sizes=(5, 2), random_state=1,\n",
              "              solver='lbfgs')"
            ]
          },
          "metadata": {},
          "execution_count": 338
        }
      ]
    },
    {
      "cell_type": "code",
      "metadata": {
        "id": "xQvNmFphoRoI",
        "colab": {
          "base_uri": "https://localhost:8080/"
        },
        "outputId": "473acb23-c6d5-4aab-8444-64be38a81e38"
      },
      "source": [
        "#Example\n",
        "example = ['mother fucker']\n",
        "example_counts = vectorizer.transform(example)\n",
        "\n",
        "prediction = classifier.predict(example_counts)\n",
        "prediction"
      ],
      "id": "xQvNmFphoRoI",
      "execution_count": 339,
      "outputs": [
        {
          "output_type": "execute_result",
          "data": {
            "text/plain": [
              "array([2])"
            ]
          },
          "metadata": {},
          "execution_count": 339
        }
      ]
    },
    {
      "cell_type": "code",
      "metadata": {
        "id": "7TiBgnyloYZD",
        "colab": {
          "base_uri": "https://localhost:8080/",
          "height": 419
        },
        "outputId": "34946056-12a8-40a6-ff75-5c43485720b6"
      },
      "source": [
        "df_train_2['vectorizer'] = df_train_2['comment_text'].map(lambda x: vectorizer.transform([x]))\n",
        "df_train_2['prediction'] = df_train_2['vectorizer'].map(lambda x: classifier.predict(x)[0])\n",
        "df_train_2[['comment_text','sentiment','prediction']]"
      ],
      "id": "7TiBgnyloYZD",
      "execution_count": 340,
      "outputs": [
        {
          "output_type": "execute_result",
          "data": {
            "text/html": [
              "<div>\n",
              "<style scoped>\n",
              "    .dataframe tbody tr th:only-of-type {\n",
              "        vertical-align: middle;\n",
              "    }\n",
              "\n",
              "    .dataframe tbody tr th {\n",
              "        vertical-align: top;\n",
              "    }\n",
              "\n",
              "    .dataframe thead th {\n",
              "        text-align: right;\n",
              "    }\n",
              "</style>\n",
              "<table border=\"1\" class=\"dataframe\">\n",
              "  <thead>\n",
              "    <tr style=\"text-align: right;\">\n",
              "      <th></th>\n",
              "      <th>comment_text</th>\n",
              "      <th>sentiment</th>\n",
              "      <th>prediction</th>\n",
              "    </tr>\n",
              "  </thead>\n",
              "  <tbody>\n",
              "    <tr>\n",
              "      <th>0</th>\n",
              "      <td>intimidation would fucking piggy face people p...</td>\n",
              "      <td>4</td>\n",
              "      <td>2</td>\n",
              "    </tr>\n",
              "    <tr>\n",
              "      <th>1</th>\n",
              "      <td>from someone totally wronged bullshit managed ...</td>\n",
              "      <td>1</td>\n",
              "      <td>1</td>\n",
              "    </tr>\n",
              "    <tr>\n",
              "      <th>2</th>\n",
              "      <td>joking welcomed athenian politely albanian wik...</td>\n",
              "      <td>1</td>\n",
              "      <td>1</td>\n",
              "    </tr>\n",
              "    <tr>\n",
              "      <th>3</th>\n",
              "      <td>idiots always demand explain talk pages always...</td>\n",
              "      <td>2</td>\n",
              "      <td>1</td>\n",
              "    </tr>\n",
              "    <tr>\n",
              "      <th>4</th>\n",
              "      <td>jehovah witnesses bunch cultish freaks need ah...</td>\n",
              "      <td>1</td>\n",
              "      <td>1</td>\n",
              "    </tr>\n",
              "    <tr>\n",
              "      <th>...</th>\n",
              "      <td>...</td>\n",
              "      <td>...</td>\n",
              "      <td>...</td>\n",
              "    </tr>\n",
              "    <tr>\n",
              "      <th>3889</th>\n",
              "      <td>previous conversation fucking shit eating libe...</td>\n",
              "      <td>3</td>\n",
              "      <td>2</td>\n",
              "    </tr>\n",
              "    <tr>\n",
              "      <th>3890</th>\n",
              "      <td>mischievious pubic hair</td>\n",
              "      <td>2</td>\n",
              "      <td>1</td>\n",
              "    </tr>\n",
              "    <tr>\n",
              "      <th>3891</th>\n",
              "      <td>your absurd edits your absurd edits great whit...</td>\n",
              "      <td>2</td>\n",
              "      <td>1</td>\n",
              "    </tr>\n",
              "    <tr>\n",
              "      <th>3892</th>\n",
              "      <td>listen ever delete edits ever annoyed 2k15 ros...</td>\n",
              "      <td>2</td>\n",
              "      <td>1</td>\n",
              "    </tr>\n",
              "    <tr>\n",
              "      <th>3893</th>\n",
              "      <td>going keep posting stuff deleted fucking site ...</td>\n",
              "      <td>2</td>\n",
              "      <td>2</td>\n",
              "    </tr>\n",
              "  </tbody>\n",
              "</table>\n",
              "<p>3894 rows × 3 columns</p>\n",
              "</div>"
            ],
            "text/plain": [
              "                                           comment_text  sentiment  prediction\n",
              "0     intimidation would fucking piggy face people p...          4           2\n",
              "1     from someone totally wronged bullshit managed ...          1           1\n",
              "2     joking welcomed athenian politely albanian wik...          1           1\n",
              "3     idiots always demand explain talk pages always...          2           1\n",
              "4     jehovah witnesses bunch cultish freaks need ah...          1           1\n",
              "...                                                 ...        ...         ...\n",
              "3889  previous conversation fucking shit eating libe...          3           2\n",
              "3890                           mischievious pubic hair           2           1\n",
              "3891  your absurd edits your absurd edits great whit...          2           1\n",
              "3892  listen ever delete edits ever annoyed 2k15 ros...          2           1\n",
              "3893  going keep posting stuff deleted fucking site ...          2           2\n",
              "\n",
              "[3894 rows x 3 columns]"
            ]
          },
          "metadata": {},
          "execution_count": 340
        }
      ]
    },
    {
      "cell_type": "code",
      "metadata": {
        "id": "20hWBRFGoagF",
        "colab": {
          "base_uri": "https://localhost:8080/"
        },
        "outputId": "32d046d8-d39e-491b-96b1-e50b75b0ac10"
      },
      "source": [
        "y_test = df_train_2[['sentiment']]\n",
        "y_pred = df_train_2[['prediction']]\n",
        "nn.append(metrics.accuracy_score(y_test, y_pred))\n",
        "# Model Accuracy, how often is the classifier correct?\n",
        "print(\"Accuracy:\",metrics.accuracy_score(y_test, y_pred))"
      ],
      "id": "20hWBRFGoagF",
      "execution_count": 341,
      "outputs": [
        {
          "output_type": "stream",
          "name": "stdout",
          "text": [
            "Accuracy: 0.5772984078068824\n"
          ]
        }
      ]
    },
    {
      "cell_type": "markdown",
      "metadata": {
        "id": "tcE9UAb1ogdi"
      },
      "source": [
        "#Hasil"
      ],
      "id": "tcE9UAb1ogdi"
    },
    {
      "cell_type": "code",
      "metadata": {
        "id": "F4nVoS7iRUdu"
      },
      "source": [
        "import pandas as pd\n",
        "modeltfidf = pd.DataFrame(index=['non-tfidf', 'tfidf'])\n",
        "modeltfidf['naive_bayes'] = bayes\n",
        "modeltfidf['knn'] = knn\n",
        "modeltfidf['neural_network'] = nn\n",
        "modeltfidf['linear_svc'] = svc\n",
        "modeltfidf['neirest_neighbors'] = neirest\n",
        "modeltfidf['stochastic_Gradient_Descent'] = stochastic\n",
        "modeltfidf['svm'] = svma\n",
        "modeltfidf['decision_tree'] = dt"
      ],
      "id": "F4nVoS7iRUdu",
      "execution_count": 378,
      "outputs": []
    },
    {
      "cell_type": "code",
      "metadata": {
        "colab": {
          "base_uri": "https://localhost:8080/",
          "height": 148
        },
        "id": "xtsw584B6GYk",
        "outputId": "310053bf-64de-4e4c-cb86-051e0e0fea7c"
      },
      "source": [
        "modeltfidf"
      ],
      "id": "xtsw584B6GYk",
      "execution_count": 363,
      "outputs": [
        {
          "output_type": "execute_result",
          "data": {
            "text/html": [
              "<div>\n",
              "<style scoped>\n",
              "    .dataframe tbody tr th:only-of-type {\n",
              "        vertical-align: middle;\n",
              "    }\n",
              "\n",
              "    .dataframe tbody tr th {\n",
              "        vertical-align: top;\n",
              "    }\n",
              "\n",
              "    .dataframe thead th {\n",
              "        text-align: right;\n",
              "    }\n",
              "</style>\n",
              "<table border=\"1\" class=\"dataframe\">\n",
              "  <thead>\n",
              "    <tr style=\"text-align: right;\">\n",
              "      <th></th>\n",
              "      <th>naive_bayes</th>\n",
              "      <th>knn</th>\n",
              "      <th>neural_network</th>\n",
              "      <th>linear_svc</th>\n",
              "      <th>neirest_neighbors</th>\n",
              "      <th>stochastic_Gradient_Descent</th>\n",
              "      <th>svm</th>\n",
              "      <th>decision_tree</th>\n",
              "    </tr>\n",
              "  </thead>\n",
              "  <tbody>\n",
              "    <tr>\n",
              "      <th>non-tfidf</th>\n",
              "      <td>0.591680</td>\n",
              "      <td>0.591680</td>\n",
              "      <td>0.584232</td>\n",
              "      <td>0.569337</td>\n",
              "      <td>0.565999</td>\n",
              "      <td>0.535953</td>\n",
              "      <td>0.544171</td>\n",
              "      <td>0.549050</td>\n",
              "    </tr>\n",
              "    <tr>\n",
              "      <th>tfidf</th>\n",
              "      <td>0.598356</td>\n",
              "      <td>0.536723</td>\n",
              "      <td>0.577298</td>\n",
              "      <td>0.607601</td>\n",
              "      <td>0.583462</td>\n",
              "      <td>0.621212</td>\n",
              "      <td>0.636620</td>\n",
              "      <td>0.566256</td>\n",
              "    </tr>\n",
              "  </tbody>\n",
              "</table>\n",
              "</div>"
            ],
            "text/plain": [
              "           naive_bayes       knn  ...       svm  decision_tree\n",
              "non-tfidf     0.591680  0.591680  ...  0.544171       0.549050\n",
              "tfidf         0.598356  0.536723  ...  0.636620       0.566256\n",
              "\n",
              "[2 rows x 8 columns]"
            ]
          },
          "metadata": {},
          "execution_count": 363
        }
      ]
    },
    {
      "cell_type": "code",
      "metadata": {
        "colab": {
          "base_uri": "https://localhost:8080/",
          "height": 345
        },
        "id": "gQSSjgvQ-EVP",
        "outputId": "453dcbce-79e9-41e0-edab-22eaad82844c"
      },
      "source": [
        "ax = modeltfidf.plot.bar()\n",
        "\n",
        "ticks = [tick.get_text() for tick in ax.get_xticklabels()]\n",
        "#ticks = pd.to_datetime(ticks).strftime('%b %Y')\n",
        "ax.set_xticklabels(ticks)"
      ],
      "id": "gQSSjgvQ-EVP",
      "execution_count": 379,
      "outputs": [
        {
          "output_type": "execute_result",
          "data": {
            "text/plain": [
              "[Text(0, 0, 'non-tfidf'), Text(0, 0, 'tfidf')]"
            ]
          },
          "metadata": {},
          "execution_count": 379
        },
        {
          "output_type": "display_data",
          "data": {
            "image/png": "[encoded data removed]",
            "text/plain": [
              "<Figure size 432x288 with 1 Axes>"
            ]
          },
          "metadata": {}
        }
      ]
    },
    {
      "cell_type": "markdown",
      "metadata": {
        "id": "X20bvSNXJ0vv"
      },
      "source": [
        "Transpose"
      ],
      "id": "X20bvSNXJ0vv"
    },
    {
      "cell_type": "code",
      "metadata": {
        "id": "CBZ1znro-pQm"
      },
      "source": [
        "modeltfidf = modeltfidf.T"
      ],
      "id": "CBZ1znro-pQm",
      "execution_count": 380,
      "outputs": []
    },
    {
      "cell_type": "code",
      "metadata": {
        "colab": {
          "base_uri": "https://localhost:8080/",
          "height": 297
        },
        "id": "m-DqI7nzKCq0",
        "outputId": "82ea79b8-ba22-4444-b9ee-c6284123f320"
      },
      "source": [
        "modeltfidf"
      ],
      "id": "m-DqI7nzKCq0",
      "execution_count": 382,
      "outputs": [
        {
          "output_type": "execute_result",
          "data": {
            "text/html": [
              "<div>\n",
              "<style scoped>\n",
              "    .dataframe tbody tr th:only-of-type {\n",
              "        vertical-align: middle;\n",
              "    }\n",
              "\n",
              "    .dataframe tbody tr th {\n",
              "        vertical-align: top;\n",
              "    }\n",
              "\n",
              "    .dataframe thead th {\n",
              "        text-align: right;\n",
              "    }\n",
              "</style>\n",
              "<table border=\"1\" class=\"dataframe\">\n",
              "  <thead>\n",
              "    <tr style=\"text-align: right;\">\n",
              "      <th></th>\n",
              "      <th>non-tfidf</th>\n",
              "      <th>tfidf</th>\n",
              "    </tr>\n",
              "  </thead>\n",
              "  <tbody>\n",
              "    <tr>\n",
              "      <th>naive_bayes</th>\n",
              "      <td>0.591680</td>\n",
              "      <td>0.598356</td>\n",
              "    </tr>\n",
              "    <tr>\n",
              "      <th>knn</th>\n",
              "      <td>0.591680</td>\n",
              "      <td>0.536723</td>\n",
              "    </tr>\n",
              "    <tr>\n",
              "      <th>neural_network</th>\n",
              "      <td>0.584232</td>\n",
              "      <td>0.577298</td>\n",
              "    </tr>\n",
              "    <tr>\n",
              "      <th>linear_svc</th>\n",
              "      <td>0.569337</td>\n",
              "      <td>0.607601</td>\n",
              "    </tr>\n",
              "    <tr>\n",
              "      <th>neirest_neighbors</th>\n",
              "      <td>0.565999</td>\n",
              "      <td>0.583462</td>\n",
              "    </tr>\n",
              "    <tr>\n",
              "      <th>stochastic_Gradient_Descent</th>\n",
              "      <td>0.535953</td>\n",
              "      <td>0.621212</td>\n",
              "    </tr>\n",
              "    <tr>\n",
              "      <th>svm</th>\n",
              "      <td>0.544171</td>\n",
              "      <td>0.636620</td>\n",
              "    </tr>\n",
              "    <tr>\n",
              "      <th>decision_tree</th>\n",
              "      <td>0.549050</td>\n",
              "      <td>0.566256</td>\n",
              "    </tr>\n",
              "  </tbody>\n",
              "</table>\n",
              "</div>"
            ],
            "text/plain": [
              "                             non-tfidf     tfidf\n",
              "naive_bayes                   0.591680  0.598356\n",
              "knn                           0.591680  0.536723\n",
              "neural_network                0.584232  0.577298\n",
              "linear_svc                    0.569337  0.607601\n",
              "neirest_neighbors             0.565999  0.583462\n",
              "stochastic_Gradient_Descent   0.535953  0.621212\n",
              "svm                           0.544171  0.636620\n",
              "decision_tree                 0.549050  0.566256"
            ]
          },
          "metadata": {},
          "execution_count": 382
        }
      ]
    },
    {
      "cell_type": "code",
      "metadata": {
        "colab": {
          "base_uri": "https://localhost:8080/",
          "height": 615
        },
        "id": "-ochqzwMJ5Bn",
        "outputId": "31b1c45b-6616-4adc-9ff7-464d72030454"
      },
      "source": [
        "ax = modeltfidf.plot.bar()\n",
        "\n",
        "ticks = [tick.get_text() for tick in ax.get_xticklabels()]\n",
        "#ticks = pd.to_datetime(ticks).strftime('%b %Y')\n",
        "ax.set_xticklabels(ticks)"
      ],
      "id": "-ochqzwMJ5Bn",
      "execution_count": 381,
      "outputs": [
        {
          "output_type": "execute_result",
          "data": {
            "text/plain": [
              "[Text(0, 0, 'naive_bayes'),\n",
              " Text(0, 0, 'knn'),\n",
              " Text(0, 0, 'neural_network'),\n",
              " Text(0, 0, 'linear_svc'),\n",
              " Text(0, 0, 'neirest_neighbors'),\n",
              " Text(0, 0, 'stochastic_Gradient_Descent'),\n",
              " Text(0, 0, 'svm'),\n",
              " Text(0, 0, 'decision_tree')]"
            ]
          },
          "metadata": {},
          "execution_count": 381
        },
        {
          "output_type": "display_data",
          "data": {
            "image/png": "[encoded data removed]",
            "text/plain": [
              "<Figure size 432x288 with 1 Axes>"
            ]
          },
          "metadata": {}
        }
      ]
    }
  ]
}